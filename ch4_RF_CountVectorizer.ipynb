{
  "nbformat": 4,
  "nbformat_minor": 0,
  "metadata": {
    "colab": {
      "name": "ch4_RF_CountVectorizer.ipynb",
      "provenance": [],
      "mount_file_id": "12E1gsm79FNyJq2s6KlIneItEtvRsTjoY",
      "authorship_tag": "ABX9TyMZmSp9MVRNAkSOGMlFAlxy",
      "include_colab_link": true
    },
    "kernelspec": {
      "name": "python3",
      "display_name": "Python 3"
    }
  },
  "cells": [
    {
      "cell_type": "markdown",
      "metadata": {
        "id": "view-in-github",
        "colab_type": "text"
      },
      "source": [
        "<a href=\"https://colab.research.google.com/github/silverstar0727/NLP_study/blob/main/ch4_RF_CountVectorizer.ipynb\" target=\"_parent\"><img src=\"https://colab.research.google.com/assets/colab-badge.svg\" alt=\"Open In Colab\"/></a>"
      ]
    },
    {
      "cell_type": "code",
      "metadata": {
        "id": "bou2-ZdvLk-0",
        "outputId": "0ef8d2f2-7d82-4568-eef4-87013eff4017",
        "colab": {
          "base_uri": "https://localhost:8080/",
          "height": 35
        }
      },
      "source": [
        "cd /content/drive/My Drive/kaggle_nlp"
      ],
      "execution_count": null,
      "outputs": [
        {
          "output_type": "stream",
          "text": [
            "/content/drive/My Drive/kaggle_nlp\n"
          ],
          "name": "stdout"
        }
      ]
    },
    {
      "cell_type": "code",
      "metadata": {
        "id": "yWFKwJM8OKIp"
      },
      "source": [
        "# CountVectorizer를 이용한 벡터화\n",
        "import pandas as pd\n",
        "import numpy as np\n",
        "\n",
        "DATA_IN_PATH  = 'after_preprocessing/'\n",
        "TRAIN_CLEAN_DATA = 'train_clean.csv'\n",
        "\n",
        "train_data = pd.read_csv(DATA_IN_PATH + TRAIN_CLEAN_DATA)\n",
        "reviews = train_data['review']\n",
        "y = np.array(train_data['sentiment'])"
      ],
      "execution_count": null,
      "outputs": []
    },
    {
      "cell_type": "code",
      "metadata": {
        "id": "qeqKaM0oOM_q"
      },
      "source": [
        "from sklearn.feature_extraction.text import CountVectorizer\n",
        "\n",
        "# analyzer: 단어 단위\n",
        "# max_features: 최대길이\n",
        "vectorizer = CountVectorizer(analyzer = 'word', max_features = 5000)\n",
        "\n",
        "train_data_features = vectorizer.fit_transform(reviews)"
      ],
      "execution_count": null,
      "outputs": []
    },
    {
      "cell_type": "code",
      "metadata": {
        "id": "OH-x60KFONEF"
      },
      "source": [
        "# 데이터 분리\n",
        "TEST_SIZE = 0.2\n",
        "RANDOM_SEED = 42\n",
        "\n",
        "from sklearn.model_selection import train_test_split\n",
        "\n",
        "X_train, X_eval, y_train, y_eval = train_test_split(train_data_features, y, \n",
        "                                                    test_size = TEST_SIZE, random_state = RANDOM_SEED)"
      ],
      "execution_count": null,
      "outputs": []
    },
    {
      "cell_type": "code",
      "metadata": {
        "id": "bIdlCKRhONIN",
        "outputId": "14c46e75-bb00-41d4-c034-827a072fa8f6",
        "colab": {
          "base_uri": "https://localhost:8080/",
          "height": 161
        }
      },
      "source": [
        "from sklearn.ensemble import RandomForestClassifier\n",
        "\n",
        "# 랜덤 포레스트 분류기에 100개의 의사결정 트리를 사용\n",
        "forest = RandomForestClassifier(n_estimators = 100)\n",
        "forest.fit(X_train, y_train)"
      ],
      "execution_count": null,
      "outputs": [
        {
          "output_type": "execute_result",
          "data": {
            "text/plain": [
              "RandomForestClassifier(bootstrap=True, ccp_alpha=0.0, class_weight=None,\n",
              "                       criterion='gini', max_depth=None, max_features='auto',\n",
              "                       max_leaf_nodes=None, max_samples=None,\n",
              "                       min_impurity_decrease=0.0, min_impurity_split=None,\n",
              "                       min_samples_leaf=1, min_samples_split=2,\n",
              "                       min_weight_fraction_leaf=0.0, n_estimators=100,\n",
              "                       n_jobs=None, oob_score=False, random_state=None,\n",
              "                       verbose=0, warm_start=False)"
            ]
          },
          "metadata": {
            "tags": []
          },
          "execution_count": 7
        }
      ]
    },
    {
      "cell_type": "code",
      "metadata": {
        "id": "o_NuSDu5ONKS",
        "outputId": "00e09ac2-d112-4cd4-a881-7ccc3ede47db",
        "colab": {
          "base_uri": "https://localhost:8080/",
          "height": 35
        }
      },
      "source": [
        "print('accuracy : %f' %forest.score(X_eval, y_eval))"
      ],
      "execution_count": null,
      "outputs": [
        {
          "output_type": "stream",
          "text": [
            "accuracy : 0.841800\n"
          ],
          "name": "stdout"
        }
      ]
    },
    {
      "cell_type": "code",
      "metadata": {
        "id": "_YC7tolMONGU"
      },
      "source": [
        "test_data = pd.read_csv('after_preprocessing/test_clean.csv')\n",
        "test_reviews = list(test_data['review'])\n",
        "ids = list(test_data['id'])"
      ],
      "execution_count": null,
      "outputs": []
    },
    {
      "cell_type": "code",
      "metadata": {
        "id": "qDDpg2pWONBu"
      },
      "source": [
        "test_data_features = vectorizer.transform(test_reviews)"
      ],
      "execution_count": null,
      "outputs": []
    },
    {
      "cell_type": "code",
      "metadata": {
        "id": "Hbj6hZFmOM9t"
      },
      "source": [
        "result = forest.predict(test_data_features)\n",
        "output = pd.DataFrame(data = {'id': ids, 'sentiment': result})\n",
        "output.to_csv('output/bag of words_model.csv', index = False, quoting = 3)"
      ],
      "execution_count": null,
      "outputs": []
    },
    {
      "cell_type": "code",
      "metadata": {
        "id": "ku6iF-FEOh8p"
      },
      "source": [
        ""
      ],
      "execution_count": null,
      "outputs": []
    }
  ]
}