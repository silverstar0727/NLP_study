{
  "nbformat": 4,
  "nbformat_minor": 0,
  "metadata": {
    "colab": {
      "name": "ch6_EDA.ipynb",
      "provenance": [],
      "mount_file_id": "1AEOhAT_XRK6_PJIe5b3STttfx8lWR6W4",
      "authorship_tag": "ABX9TyOi7qgF/NIAFA7Y9YMZN0s9",
      "include_colab_link": true
    },
    "kernelspec": {
      "name": "python3",
      "display_name": "Python 3"
    }
  },
  "cells": [
    {
      "cell_type": "markdown",
      "metadata": {
        "id": "view-in-github",
        "colab_type": "text"
      },
      "source": [
        "<a href=\"https://colab.research.google.com/github/silverstar0727/NLP_study/blob/main/ch6_EDA.ipynb\" target=\"_parent\"><img src=\"https://colab.research.google.com/assets/colab-badge.svg\" alt=\"Open In Colab\"/></a>"
      ]
    },
    {
      "cell_type": "code",
      "metadata": {
        "id": "kKuUDmNPv1DO",
        "outputId": "80198ff0-1c7b-483a-fe77-540fc7632842",
        "colab": {
          "base_uri": "https://localhost:8080/",
          "height": 35
        }
      },
      "source": [
        "cd /content/drive/My Drive/ch6"
      ],
      "execution_count": null,
      "outputs": [
        {
          "output_type": "stream",
          "text": [
            "/content/drive/My Drive/ch6\n"
          ],
          "name": "stdout"
        }
      ]
    },
    {
      "cell_type": "code",
      "metadata": {
        "id": "xSSyzbqaS2bB",
        "outputId": "8c053129-851f-44a8-cec8-55bdc58c9de3",
        "colab": {
          "base_uri": "https://localhost:8080/",
          "height": 71
        }
      },
      "source": [
        "!pip install -q konlpy"
      ],
      "execution_count": null,
      "outputs": [
        {
          "output_type": "stream",
          "text": [
            "\u001b[K     |████████████████████████████████| 19.4MB 62.3MB/s \n",
            "\u001b[K     |████████████████████████████████| 92kB 9.1MB/s \n",
            "\u001b[K     |████████████████████████████████| 3.8MB 46.5MB/s \n",
            "\u001b[?25h"
          ],
          "name": "stdout"
        }
      ]
    },
    {
      "cell_type": "code",
      "metadata": {
        "id": "iRo8qdKzvgJz"
      },
      "source": [
        "import pandas as pd\n",
        "import numpy as np\n",
        "import matplotlib.pyplot as plt\n",
        "\n",
        "from collections import Counter\n",
        "\n",
        "from konlpy.tag import Okt\n",
        "\n",
        "from functools import reduce\n",
        "from wordcloud import WordCloud\n",
        "\n",
        "\n",
        "data = pd.read_csv('ChatbotData .csv', encoding = 'utf-8')"
      ],
      "execution_count": null,
      "outputs": []
    },
    {
      "cell_type": "code",
      "metadata": {
        "id": "X5B-bqqdxkEQ"
      },
      "source": [
        "sentences = list(data['Q']) + list(data['A'])\n",
        "\n",
        "tokenized_sentences = [s.split() for s in sentences] # 어절단위로 리스트화\n",
        "sent_len_by_token = [len(t) for t in tokenized_sentences] # 길이를 리스트화\n",
        "sent_len_by_eumjeol = [len(s.replace(' ', '')) for s in sentences] # 공백 제거\n",
        "\n",
        "from konlpy.tag import Twitter\n",
        "from konlpy.tag import Okt\n",
        "\n",
        "okt = Okt() # konlpy의 형태소 분석기를 활용\n",
        "\n",
        "morph_tokenized_sentences = [okt.morphs(s.replace(' ', '')) for s in sentences]\n",
        "sent_len_by_morph = [len(t) for t in morph_tokenized_sentences]"
      ],
      "execution_count": null,
      "outputs": []
    },
    {
      "cell_type": "code",
      "metadata": {
        "id": "LZ_0aBK5y4GJ",
        "outputId": "74a3aabe-bdff-423c-dabc-e1d51aa980b2",
        "colab": {
          "base_uri": "https://localhost:8080/",
          "height": 368
        }
      },
      "source": [
        "plt.figure(figsize=(12, 5))\n",
        "plt.hist(sent_len_by_token, bins=50, range=[0,50], alpha=0.5, color= 'r', label='eojeol')\n",
        "plt.hist(sent_len_by_morph, bins=50, range=[0,50], alpha=0.5, color='g', label='morph')\n",
        "plt.hist(sent_len_by_eumjeol, bins=50, range=[0,50], alpha=0.5, color='b', label='eumjeol')\n",
        "plt.title('Sentence Length Histogram')\n",
        "plt.xlabel('Sentence Length')\n",
        "plt.ylabel('Number of Sentences')"
      ],
      "execution_count": null,
      "outputs": [
        {
          "output_type": "execute_result",
          "data": {
            "text/plain": [
              "Text(0, 0.5, 'Number of Sentences')"
            ]
          },
          "metadata": {
            "tags": []
          },
          "execution_count": 16
        },
        {
          "output_type": "display_data",
          "data": {
            "image/png": "[encoded data removed]",
            "text/plain": [
              "<Figure size 864x360 with 1 Axes>"
            ]
          },
          "metadata": {
            "tags": [],
            "needs_background": "light"
          }
        }
      ]
    },
    {
      "cell_type": "code",
      "metadata": {
        "id": "eIF9Gr30TP2f",
        "outputId": "5df5bcc0-0f95-47be-e36d-891b568876a1",
        "colab": {
          "base_uri": "https://localhost:8080/",
          "height": 368
        }
      },
      "source": [
        "plt.figure(figsize=(12, 5))\n",
        "plt.hist(sent_len_by_token, bins=50, range=[0,50], alpha=0.5, color= 'r', label='eojeol')\n",
        "plt.hist(sent_len_by_morph, bins=50, range=[0,50], alpha=0.5, color='g', label='morph')\n",
        "plt.hist(sent_len_by_eumjeol, bins=50, range=[0,50], alpha=0.5, color='b', label='eumjeol')\n",
        "plt.yscale('log')\n",
        "plt.title('Sentence Length Histogram by Eojeol Token')\n",
        "plt.xlabel('Sentence Length')\n",
        "plt.ylabel('Number of Sentences')"
      ],
      "execution_count": null,
      "outputs": [
        {
          "output_type": "execute_result",
          "data": {
            "text/plain": [
              "Text(0, 0.5, 'Number of Sentences')"
            ]
          },
          "metadata": {
            "tags": []
          },
          "execution_count": 17
        },
        {
          "output_type": "display_data",
          "data": {
            "image/png": "[encoded data removed]",
            "text/plain": [
              "<Figure size 864x360 with 1 Axes>"
            ]
          },
          "metadata": {
            "tags": [],
            "needs_background": "light"
          }
        }
      ]
    },
    {
      "cell_type": "code",
      "metadata": {
        "id": "t3twol3YTPtP",
        "outputId": "8993526c-bcf3-4243-c60c-41974c97bc41",
        "colab": {
          "base_uri": "https://localhost:8080/",
          "height": 752
        }
      },
      "source": [
        "plt.figure(figsize=(12, 5))\n",
        "plt.boxplot([sent_len_by_token, sent_len_by_morph, sent_len_by_eumjeol],\n",
        "            labels=['Eojeol', 'Morph', 'Eumjeol'], \n",
        "            showmeans=True)"
      ],
      "execution_count": null,
      "outputs": [
        {
          "output_type": "execute_result",
          "data": {
            "text/plain": [
              "{'boxes': [<matplotlib.lines.Line2D at 0x7fd6fee856a0>,\n",
              "  <matplotlib.lines.Line2D at 0x7fd6fee442b0>,\n",
              "  <matplotlib.lines.Line2D at 0x7fd6fee4deb8>],\n",
              " 'caps': [<matplotlib.lines.Line2D at 0x7fd6feebb0b8>,\n",
              "  <matplotlib.lines.Line2D at 0x7fd6feebb438>,\n",
              "  <matplotlib.lines.Line2D at 0x7fd6fee44d30>,\n",
              "  <matplotlib.lines.Line2D at 0x7fd6fee4d0f0>,\n",
              "  <matplotlib.lines.Line2D at 0x7fd6fee599b0>,\n",
              "  <matplotlib.lines.Line2D at 0x7fd6fee59d30>],\n",
              " 'fliers': [<matplotlib.lines.Line2D at 0x7fd6feebbe80>,\n",
              "  <matplotlib.lines.Line2D at 0x7fd6fee4db38>,\n",
              "  <matplotlib.lines.Line2D at 0x7fd6fee637b8>],\n",
              " 'means': [<matplotlib.lines.Line2D at 0x7fd6feebbb38>,\n",
              "  <matplotlib.lines.Line2D at 0x7fd6fee4d7f0>,\n",
              "  <matplotlib.lines.Line2D at 0x7fd6fee63470>],\n",
              " 'medians': [<matplotlib.lines.Line2D at 0x7fd6feebb7b8>,\n",
              "  <matplotlib.lines.Line2D at 0x7fd6fee4d470>,\n",
              "  <matplotlib.lines.Line2D at 0x7fd6fee630f0>],\n",
              " 'whiskers': [<matplotlib.lines.Line2D at 0x7fd6fee859b0>,\n",
              "  <matplotlib.lines.Line2D at 0x7fd6fee85cf8>,\n",
              "  <matplotlib.lines.Line2D at 0x7fd6fee44630>,\n",
              "  <matplotlib.lines.Line2D at 0x7fd6fee449b0>,\n",
              "  <matplotlib.lines.Line2D at 0x7fd6fee592b0>,\n",
              "  <matplotlib.lines.Line2D at 0x7fd6fee59630>]}"
            ]
          },
          "metadata": {
            "tags": []
          },
          "execution_count": 20
        },
        {
          "output_type": "display_data",
          "data": {
            "image/png": "[encoded data removed]",
            "text/plain": [
              "<Figure size 864x360 with 1 Axes>"
            ]
          },
          "metadata": {
            "tags": [],
            "needs_background": "light"
          }
        }
      ]
    },
    {
      "cell_type": "code",
      "metadata": {
        "id": "wz8I3fkHTPql"
      },
      "source": [
        "\n",
        "query_sentences = list(data['Q'])\n",
        "answer_sentences = list(data['A'])\n",
        "\n",
        "query_morph_tokenized_sentences = [okt.morphs(s.replace(' ', '')) for s in query_sentences]\n",
        "query_sent_len_by_morph = [len(t) for t in query_morph_tokenized_sentences]\n",
        "\n",
        "answer_morph_tokenized_sentences = [okt.morphs(s.replace(' ', '')) for s in answer_sentences]\n",
        "answer_sent_len_by_morph = [len(t) for t in answer_morph_tokenized_sentences]"
      ],
      "execution_count": null,
      "outputs": []
    },
    {
      "cell_type": "code",
      "metadata": {
        "id": "1DDYxRH1TPO8",
        "outputId": "c3d02da7-623f-49cb-848b-f57cb6a683ad",
        "colab": {
          "base_uri": "https://localhost:8080/"
        }
      },
      "source": [
        "\n",
        "plt.figure(figsize=(12, 5))\n",
        "plt.hist(query_sent_len_by_morph, bins=50, range=[0,50], color='g', label='Query')\n",
        "plt.hist(answer_sent_len_by_morph, bins=50, range=[0,50], color='r', alpha=0.5, label='Answer')\n",
        "plt.legend()\n",
        "plt.title('Query Length Histogram by Morph Token')\n",
        "plt.xlabel('Query Length')\n",
        "plt.ylabel('Number of Queries')"
      ],
      "execution_count": null,
      "outputs": [
        {
          "output_type": "execute_result",
          "data": {
            "text/plain": [
              "Text(0, 0.5, 'Number of Queries')"
            ]
          },
          "metadata": {
            "tags": []
          },
          "execution_count": 22
        },
        {
          "output_type": "display_data",
          "data": {
            "image/png": "[encoded data removed]",
            "text/plain": [
              "<Figure size 864x360 with 1 Axes>"
            ]
          },
          "metadata": {
            "tags": [],
            "needs_background": "light"
          }
        }
      ]
    },
    {
      "cell_type": "code",
      "metadata": {
        "id": "nSurXcnITk93",
        "outputId": "973fee3a-cf07-4385-a31f-320f79005e02",
        "colab": {
          "base_uri": "https://localhost:8080/"
        }
      },
      "source": [
        "query_len_by_morph.describe()"
      ],
      "execution_count": null,
      "outputs": [
        {
          "output_type": "error",
          "ename": "NameError",
          "evalue": "ignored",
          "traceback": [
            "\u001b[0;31m---------------------------------------------------------------------------\u001b[0m",
            "\u001b[0;31mNameError\u001b[0m                                 Traceback (most recent call last)",
            "\u001b[0;32m<ipython-input-23-b4de735a0ef7>\u001b[0m in \u001b[0;36m<module>\u001b[0;34m()\u001b[0m\n\u001b[0;32m----> 1\u001b[0;31m \u001b[0mquery_len_by_morph\u001b[0m\u001b[0;34m.\u001b[0m\u001b[0mdescribe\u001b[0m\u001b[0;34m(\u001b[0m\u001b[0;34m)\u001b[0m\u001b[0;34m\u001b[0m\u001b[0;34m\u001b[0m\u001b[0m\n\u001b[0m",
            "\u001b[0;31mNameError\u001b[0m: name 'query_len_by_morph' is not defined"
          ]
        }
      ]
    },
    {
      "cell_type": "code",
      "metadata": {
        "id": "CNy8_S-FTlFE"
      },
      "source": [
        "answer_len_by_morph.describe()"
      ],
      "execution_count": null,
      "outputs": []
    },
    {
      "cell_type": "code",
      "metadata": {
        "id": "nmMwc1LTTlBp"
      },
      "source": [
        "okt.pos('오늘밤은유난히덥구나')"
      ],
      "execution_count": null,
      "outputs": []
    },
    {
      "cell_type": "code",
      "metadata": {
        "id": "V_qo4VALTk1Q"
      },
      "source": [
        "query_NVA_token_sentences = list()\n",
        "answer_NVA_token_sentences = list()\n",
        "\n",
        "for s in query_sentences:\n",
        "    for token, tag in okt.pos(s.replace(' ', '')):\n",
        "        if tag == 'Noun' or tag == 'Verb' or tag == 'Adjective':\n",
        "            query_NVA_token_sentences.append(token)\n",
        "\n",
        "for s in answer_sentences:\n",
        "    temp_token_bucket = list()\n",
        "    for token, tag in okt.pos(s.replace(' ', '')):\n",
        "        if tag == 'Noun' or tag == 'Verb' or tag == 'Adjective':\n",
        "            answer_NVA_token_sentences.append(token)\n",
        "            \n",
        "query_NVA_token_sentences = ' '.join(query_NVA_token_sentences)\n",
        "answer_NVA_token_sentences = ' '.join(answer_NVA_token_sentences)"
      ],
      "execution_count": null,
      "outputs": []
    },
    {
      "cell_type": "code",
      "metadata": {
        "id": "ZyznvnmTUEzQ"
      },
      "source": [
        "query_wordcloud = WordCloud(font_path= DATA_IN_PATH + 'NanumGothic.ttf').generate(query_NVA_token_sentences)\n",
        "\n",
        "plt.imshow(query_wordcloud, interpolation='bilinear')\n",
        "plt.axis('off')\n",
        "plt.show()"
      ],
      "execution_count": null,
      "outputs": []
    },
    {
      "cell_type": "code",
      "metadata": {
        "id": "nEbgMH-5UExF"
      },
      "source": [
        "query_wordcloud = WordCloud(font_path= DATA_IN_PATH + 'NanumGothic.ttf').generate(answer_NVA_token_sentences)\n",
        "\n",
        "plt.imshow(query_wordcloud, interpolation='bilinear')\n",
        "plt.axis('off')\n",
        "plt.show()"
      ],
      "execution_count": null,
      "outputs": []
    }
  ]
}
