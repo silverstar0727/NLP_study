{
  "nbformat": 4,
  "nbformat_minor": 0,
  "metadata": {
    "colab": {
      "name": "ch6_transformer.ipynb",
      "provenance": [],
      "collapsed_sections": [],
      "mount_file_id": "15gllnY1v_DoZNYnaHh4DpRA8OEPB3fl9",
      "authorship_tag": "ABX9TyPvGqH7davukxhOzA1uTLHY",
      "include_colab_link": true
    },
    "kernelspec": {
      "name": "python3",
      "display_name": "Python 3"
    },
    "accelerator": "GPU"
  },
  "cells": [
    {
      "cell_type": "markdown",
      "metadata": {
        "id": "view-in-github",
        "colab_type": "text"
      },
      "source": [
        "<a href=\"https://colab.research.google.com/github/silverstar0727/NLP_study/blob/main/ch6_transformer.ipynb\" target=\"_parent\"><img src=\"https://colab.research.google.com/assets/colab-badge.svg\" alt=\"Open In Colab\"/></a>"
      ]
    },
    {
      "cell_type": "code",
      "metadata": {
        "id": "ExzFv22mj_6v",
        "outputId": "71784aa4-2bbc-4317-9283-ceb95b71c9f8",
        "colab": {
          "base_uri": "https://localhost:8080/",
          "height": 34
        }
      },
      "source": [
        "cd /content/drive/My Drive/ml/nlp/book/ch6"
      ],
      "execution_count": 67,
      "outputs": [
        {
          "output_type": "stream",
          "text": [
            "/content/drive/My Drive/ml/nlp/book/ch6\n"
          ],
          "name": "stdout"
        }
      ]
    },
    {
      "cell_type": "code",
      "metadata": {
        "id": "2r0F3jaxkH0U"
      },
      "source": [
        "!pip install -q konlpy\n",
        "!pip install -q preprocessing"
      ],
      "execution_count": 68,
      "outputs": []
    },
    {
      "cell_type": "code",
      "metadata": {
        "id": "BKAmHqAAjyhN"
      },
      "source": [
        "import tensorflow as tf\n",
        "import numpy as np\n",
        "\n",
        "from konlpy.tag import Twitter\n",
        "import pandas as pd\n",
        "import tensorflow as tf\n",
        "import enum\n",
        "import os\n",
        "import re\n",
        "import json\n",
        "from sklearn.model_selection import train_test_split\n",
        "\n",
        "from tensorflow.keras.callbacks import EarlyStopping, ModelCheckpoint\n",
        "import matplotlib.pyplot as plt\n",
        "\n",
        "from preprocess import *"
      ],
      "execution_count": 69,
      "outputs": []
    },
    {
      "cell_type": "code",
      "metadata": {
        "id": "tcj6_uszjzMh"
      },
      "source": [
        "def plot_graphs(history, string):\n",
        "    plt.plot(history.history[string])\n",
        "    plt.plot(history.history['val_'+string], '')\n",
        "    plt.xlabel(\"Epochs\")\n",
        "    plt.ylabel(string)\n",
        "    plt.legend([string, 'val_'+string])\n",
        "    plt.show()"
      ],
      "execution_count": 70,
      "outputs": []
    },
    {
      "cell_type": "code",
      "metadata": {
        "id": "ehfZgpoPjzKY"
      },
      "source": [
        "DATA_OUT_PATH = 'output/'\n",
        "TRAIN_INPUTS = 'train_inputs.npy'\n",
        "TRAIN_OUTPUTS = 'train_outputs.npy'\n",
        "TRAIN_TARGETS = 'train_targets.npy'\n",
        "DATA_CONFIGS = 'data_configs.json'"
      ],
      "execution_count": 71,
      "outputs": []
    },
    {
      "cell_type": "code",
      "metadata": {
        "id": "B6XOB8WSjzEn"
      },
      "source": [
        "SEED_NUM = 1234\n",
        "tf.random.set_seed(SEED_NUM)"
      ],
      "execution_count": 72,
      "outputs": []
    },
    {
      "cell_type": "code",
      "metadata": {
        "id": "7AZX5BpfkNzz"
      },
      "source": [
        "index_inputs = np.load(open(TRAIN_INPUTS, 'rb'))\n",
        "index_outputs = np.load(open(TRAIN_OUTPUTS , 'rb'))\n",
        "index_targets = np.load(open(TRAIN_TARGETS , 'rb'))\n",
        "prepro_configs = json.load(open(DATA_CONFIGS, 'r'))"
      ],
      "execution_count": 73,
      "outputs": []
    },
    {
      "cell_type": "code",
      "metadata": {
        "id": "s8ExmbmTkN5K"
      },
      "source": [
        "char2idx = prepro_configs['char2idx']\n",
        "end_index = prepro_configs['end_symbol']\n",
        "model_name = 'transformer'\n",
        "vocab_size = prepro_configs['vocab_size']\n",
        "BATCH_SIZE = 64\n",
        "MAX_SEQUENCE = 25\n",
        "EPOCHS = 35\n",
        "VALID_SPLIT = 0.1\n",
        "\n",
        "kargs = {'model_name': model_name,\n",
        "         'num_layers': 2,\n",
        "         'd_model': 512,\n",
        "         'num_heads': 8,\n",
        "         'dff': 2048,\n",
        "         'input_vocab_size': vocab_size,\n",
        "         'target_vocab_size': vocab_size,\n",
        "         'maximum_position_encoding': MAX_SEQUENCE,\n",
        "         'end_token_idx': char2idx[end_index],\n",
        "         'rate': 0.1\n",
        "        }"
      ],
      "execution_count": 74,
      "outputs": []
    },
    {
      "cell_type": "code",
      "metadata": {
        "id": "ruDqfoizkN9j"
      },
      "source": [
        "def create_padding_mask(seq):\n",
        "    seq = tf.cast(tf.math.equal(seq, 0), tf.float32)\n",
        "\n",
        "    # add extra dimensions to add the padding\n",
        "    # to the attention logits.\n",
        "    return seq[:, tf.newaxis, tf.newaxis, :]  # (batch_size, 1, 1, seq_len)"
      ],
      "execution_count": 75,
      "outputs": []
    },
    {
      "cell_type": "code",
      "metadata": {
        "id": "SgvVGQtxkN7Y"
      },
      "source": [
        "def create_look_ahead_mask(size):\n",
        "    mask = 1 - tf.linalg.band_part(tf.ones((size, size)), -1, 0)\n",
        "    return mask  # (seq_len, seq_len)"
      ],
      "execution_count": 76,
      "outputs": []
    },
    {
      "cell_type": "code",
      "metadata": {
        "id": "DXMfynVnkN2Q"
      },
      "source": [
        "def create_masks(inp, tar):\n",
        "    # Encoder padding mask\n",
        "    enc_padding_mask = create_padding_mask(inp)\n",
        "\n",
        "    # Used in the 2nd attention block in the decoder.\n",
        "    # This padding mask is used to mask the encoder outputs.\n",
        "    dec_padding_mask = create_padding_mask(inp)\n",
        "\n",
        "    # Used in the 1st attention block in the decoder.\n",
        "    # It is used to pad and mask future tokens in the input received by \n",
        "    # the decoder.\n",
        "    look_ahead_mask = create_look_ahead_mask(tf.shape(tar)[1])\n",
        "    dec_target_padding_mask = create_padding_mask(tar)\n",
        "    combined_mask = tf.maximum(dec_target_padding_mask, look_ahead_mask)\n",
        "\n",
        "    return enc_padding_mask, combined_mask, dec_padding_mask"
      ],
      "execution_count": 77,
      "outputs": []
    },
    {
      "cell_type": "code",
      "metadata": {
        "id": "5g6XSWE4kNeA"
      },
      "source": [
        "def get_angles(pos, i, d_model):\n",
        "    angle_rates = 1 / np.power(10000, (2 * i//2) / np.float32(d_model))\n",
        "    return pos * angle_rates"
      ],
      "execution_count": 78,
      "outputs": []
    },
    {
      "cell_type": "code",
      "metadata": {
        "id": "Boox9rkwkNb3"
      },
      "source": [
        "def positional_encoding(position, d_model):\n",
        "    angle_rads = get_angles(np.arange(position)[:, np.newaxis],\n",
        "                          np.arange(d_model)[np.newaxis, :],\n",
        "                          d_model)\n",
        "\n",
        "    # apply sin to even indices in the array; 2i\n",
        "    angle_rads[:, 0::2] = np.sin(angle_rads[:, 0::2])\n",
        "\n",
        "    # apply cos to odd indices in the array; 2i+1\n",
        "    angle_rads[:, 1::2] = np.cos(angle_rads[:, 1::2])\n",
        "\n",
        "    pos_encoding = angle_rads[np.newaxis, ...]\n",
        "\n",
        "    return tf.cast(pos_encoding, dtype=tf.float32)"
      ],
      "execution_count": 79,
      "outputs": []
    },
    {
      "cell_type": "code",
      "metadata": {
        "id": "dq6ZwWuDkeJP",
        "outputId": "e47fcec3-4664-4177-ce12-8bd05dd96006",
        "colab": {
          "base_uri": "https://localhost:8080/",
          "height": 301
        }
      },
      "source": [
        "pos_encoding = positional_encoding(50, 512)\n",
        "print (pos_encoding.shape)\n",
        "\n",
        "plt.pcolormesh(pos_encoding[0], cmap='RdBu')\n",
        "plt.xlabel('Depth')\n",
        "plt.xlim((0, 512))\n",
        "plt.ylabel('Position')\n",
        "plt.colorbar()\n",
        "plt.show()"
      ],
      "execution_count": 80,
      "outputs": [
        {
          "output_type": "stream",
          "text": [
            "(1, 50, 512)\n"
          ],
          "name": "stdout"
        },
        {
          "output_type": "display_data",
          "data": {
            "image/png": "[encoded data removed]",
            "text/plain": [
              "<Figure size 432x288 with 2 Axes>"
            ]
          },
          "metadata": {
            "tags": [],
            "needs_background": "light"
          }
        }
      ]
    },
    {
      "cell_type": "code",
      "metadata": {
        "id": "poGmKpbOkeNP"
      },
      "source": [
        "def scaled_dot_product_attention(q, k, v, mask):\n",
        "    \"\"\"Calculate the attention weights.\n",
        "    q, k, v must have matching leading dimensions.\n",
        "    k, v must have matching penultimate dimension, i.e.: seq_len_k = seq_len_v.\n",
        "    The mask has different shapes depending on its type(padding or look ahead) \n",
        "    but it must be broadcastable for addition.\n",
        "\n",
        "    Args:\n",
        "    q: query shape == (..., seq_len_q, depth)\n",
        "    k: key shape == (..., seq_len_k, depth)\n",
        "    v: value shape == (..., seq_len_v, depth_v)\n",
        "    mask: Float tensor with shape broadcastable \n",
        "          to (..., seq_len_q, seq_len_k). Defaults to None.\n",
        "\n",
        "    Returns:\n",
        "    output, attention_weights\n",
        "    \"\"\"\n",
        "\n",
        "    matmul_qk = tf.matmul(q, k, transpose_b=True)  # (..., seq_len_q, seq_len_k)\n",
        "\n",
        "    # scale matmul_qk\n",
        "    dk = tf.cast(tf.shape(k)[-1], tf.float32)\n",
        "    scaled_attention_logits = matmul_qk / tf.math.sqrt(dk)\n",
        "\n",
        "    # add the mask to the scaled tensor.\n",
        "    if mask is not None:\n",
        "        scaled_attention_logits += (mask * -1e9)  \n",
        "\n",
        "    # softmax is normalized on the last axis (seq_len_k) so that the scores\n",
        "    # add up to 1.\n",
        "    attention_weights = tf.nn.softmax(scaled_attention_logits, axis=-1)  # (..., seq_len_q, seq_len_k)\n",
        "\n",
        "    output = tf.matmul(attention_weights, v)  # (..., seq_len_q, depth_v)\n",
        "\n",
        "    return output, attention_weights"
      ],
      "execution_count": 81,
      "outputs": []
    },
    {
      "cell_type": "code",
      "metadata": {
        "id": "jM9r7MJBkeR2"
      },
      "source": [
        "class MultiHeadAttention(tf.keras.layers.Layer):\n",
        "    def __init__(self, **kargs):\n",
        "        super(MultiHeadAttention, self).__init__()\n",
        "        self.num_heads = kargs['num_heads']\n",
        "        self.d_model = kargs['d_model']\n",
        "\n",
        "        assert self.d_model % self.num_heads == 0\n",
        "\n",
        "        self.depth = self.d_model // self.num_heads\n",
        "\n",
        "        self.wq = tf.keras.layers.Dense(kargs['d_model'])\n",
        "        self.wk = tf.keras.layers.Dense(kargs['d_model'])\n",
        "        self.wv = tf.keras.layers.Dense(kargs['d_model'])\n",
        "\n",
        "        self.dense = tf.keras.layers.Dense(kargs['d_model'])\n",
        "\n",
        "    def split_heads(self, x, batch_size):\n",
        "        \"\"\"Split the last dimension into (num_heads, depth).\n",
        "        Transpose the result such that the shape is (batch_size, num_heads, seq_len, depth)\n",
        "        \"\"\"\n",
        "        x = tf.reshape(x, (batch_size, -1, self.num_heads, self.depth))\n",
        "        return tf.transpose(x, perm=[0, 2, 1, 3])\n",
        "\n",
        "    def call(self, v, k, q, mask):\n",
        "        batch_size = tf.shape(q)[0]\n",
        "\n",
        "        q = self.wq(q)  # (batch_size, seq_len, d_model)\n",
        "        k = self.wk(k)  # (batch_size, seq_len, d_model)\n",
        "        v = self.wv(v)  # (batch_size, seq_len, d_model)\n",
        "\n",
        "        q = self.split_heads(q, batch_size)  # (batch_size, num_heads, seq_len_q, depth)\n",
        "        k = self.split_heads(k, batch_size)  # (batch_size, num_heads, seq_len_k, depth)\n",
        "        v = self.split_heads(v, batch_size)  # (batch_size, num_heads, seq_len_v, depth)\n",
        "\n",
        "        # scaled_attention.shape == (batch_size, num_heads, seq_len_q, depth)\n",
        "        # attention_weights.shape == (batch_size, num_heads, seq_len_q, seq_len_k)\n",
        "        scaled_attention, attention_weights = scaled_dot_product_attention(\n",
        "            q, k, v, mask)\n",
        "\n",
        "        scaled_attention = tf.transpose(scaled_attention, perm=[0, 2, 1, 3])  # (batch_size, seq_len_q, num_heads, depth)\n",
        "\n",
        "        concat_attention = tf.reshape(scaled_attention, \n",
        "                                      (batch_size, -1, self.d_model))  # (batch_size, seq_len_q, d_model)\n",
        "\n",
        "        output = self.dense(concat_attention)  # (batch_size, seq_len_q, d_model)\n",
        "\n",
        "        return output, attention_weights"
      ],
      "execution_count": 82,
      "outputs": []
    },
    {
      "cell_type": "code",
      "metadata": {
        "id": "ivHNBtQHkePU"
      },
      "source": [
        "def point_wise_feed_forward_network(**kargs):\n",
        "    return tf.keras.Sequential([\n",
        "      tf.keras.layers.Dense(kargs['dff'], activation='relu'),  # (batch_size, seq_len, dff)\n",
        "      tf.keras.layers.Dense(kargs['d_model'])  # (batch_size, seq_len, d_model)\n",
        "    ])"
      ],
      "execution_count": 83,
      "outputs": []
    },
    {
      "cell_type": "code",
      "metadata": {
        "id": "hHvJiIPlkeLX"
      },
      "source": [
        "class EncoderLayer(tf.keras.layers.Layer):\n",
        "    def __init__(self, **kargs):\n",
        "        super(EncoderLayer, self).__init__()\n",
        "\n",
        "        self.mha = MultiHeadAttention(**kargs)\n",
        "        self.ffn = point_wise_feed_forward_network(**kargs)\n",
        "\n",
        "        self.layernorm1 = tf.keras.layers.LayerNormalization(epsilon=1e-6)\n",
        "        self.layernorm2 = tf.keras.layers.LayerNormalization(epsilon=1e-6)\n",
        "\n",
        "        self.dropout1 = tf.keras.layers.Dropout(kargs['rate'])\n",
        "        self.dropout2 = tf.keras.layers.Dropout(kargs['rate'])\n",
        "\n",
        "    def call(self, x, mask):\n",
        "        attn_output, _ = self.mha(x, x, x, mask)  # (batch_size, input_seq_len, d_model)\n",
        "        attn_output = self.dropout1(attn_output)\n",
        "        out1 = self.layernorm1(x + attn_output)  # (batch_size, input_seq_len, d_model)\n",
        "\n",
        "        ffn_output = self.ffn(out1)  # (batch_size, input_seq_len, d_model)\n",
        "        ffn_output = self.dropout2(ffn_output)\n",
        "        out2 = self.layernorm2(out1 + ffn_output)  # (batch_size, input_seq_len, d_model)\n",
        "\n",
        "        return out2"
      ],
      "execution_count": 84,
      "outputs": []
    },
    {
      "cell_type": "code",
      "metadata": {
        "id": "M-QFVU-mkeGy"
      },
      "source": [
        "class DecoderLayer(tf.keras.layers.Layer):\n",
        "    def __init__(self, **kargs):\n",
        "        super(DecoderLayer, self).__init__()\n",
        "\n",
        "        self.mha1 = MultiHeadAttention(**kargs)\n",
        "        self.mha2 = MultiHeadAttention(**kargs)\n",
        "\n",
        "        self.ffn = point_wise_feed_forward_network(**kargs)\n",
        "\n",
        "        self.layernorm1 = tf.keras.layers.LayerNormalization(epsilon=1e-6)\n",
        "        self.layernorm2 = tf.keras.layers.LayerNormalization(epsilon=1e-6)\n",
        "        self.layernorm3 = tf.keras.layers.LayerNormalization(epsilon=1e-6)\n",
        "\n",
        "        self.dropout1 = tf.keras.layers.Dropout(kargs['rate'])\n",
        "        self.dropout2 = tf.keras.layers.Dropout(kargs['rate'])\n",
        "        self.dropout3 = tf.keras.layers.Dropout(kargs['rate'])\n",
        "    \n",
        "    \n",
        "    def call(self, x, enc_output, look_ahead_mask, padding_mask):\n",
        "        # enc_output.shape == (batch_size, input_seq_len, d_model)\n",
        "        attn1, attn_weights_block1 = self.mha1(x, x, x, look_ahead_mask)  # (batch_size, target_seq_len, d_model)\n",
        "        attn1 = self.dropout1(attn1)\n",
        "        out1 = self.layernorm1(attn1 + x)\n",
        "\n",
        "        attn2, attn_weights_block2 = self.mha2(\n",
        "            enc_output, enc_output, out1, padding_mask)  # (batch_size, target_seq_len, d_model)\n",
        "        attn2 = self.dropout2(attn2)\n",
        "        out2 = self.layernorm2(attn2 + out1)  # (batch_size, target_seq_len, d_model)\n",
        "\n",
        "        ffn_output = self.ffn(out2)  # (batch_size, target_seq_len, d_model)\n",
        "        ffn_output = self.dropout3(ffn_output)\n",
        "        out3 = self.layernorm3(ffn_output + out2)  # (batch_size, target_seq_len, d_model)\n",
        "\n",
        "        return out3, attn_weights_block1, attn_weights_block2"
      ],
      "execution_count": 85,
      "outputs": []
    },
    {
      "cell_type": "code",
      "metadata": {
        "id": "nvqmdYDekoCe"
      },
      "source": [
        "class Encoder(tf.keras.layers.Layer):\n",
        "    def __init__(self, **kargs):\n",
        "        super(Encoder, self).__init__()\n",
        "\n",
        "        self.d_model = kargs['d_model']\n",
        "        self.num_layers = kargs['num_layers']\n",
        "\n",
        "        self.embedding = tf.keras.layers.Embedding(kargs['input_vocab_size'], self.d_model)\n",
        "        self.pos_encoding = positional_encoding(kargs['maximum_position_encoding'], \n",
        "                                                self.d_model)\n",
        "\n",
        "\n",
        "        self.enc_layers = [EncoderLayer(**kargs) \n",
        "                           for _ in range(self.num_layers)]\n",
        "\n",
        "        self.dropout = tf.keras.layers.Dropout(kargs['rate'])\n",
        "\n",
        "    def call(self, x, mask):\n",
        "\n",
        "        seq_len = tf.shape(x)[1]\n",
        "\n",
        "        # adding embedding and position encoding.\n",
        "        x = self.embedding(x)  # (batch_size, input_seq_len, d_model)\n",
        "        x *= tf.math.sqrt(tf.cast(self.d_model, tf.float32))\n",
        "        x += self.pos_encoding[:, :seq_len, :]\n",
        "\n",
        "        x = self.dropout(x)\n",
        "\n",
        "        for i in range(self.num_layers):\n",
        "            x = self.enc_layers[i](x, mask)\n",
        "\n",
        "        return x  # (batch_size, input_seq_len, d_model)"
      ],
      "execution_count": 86,
      "outputs": []
    },
    {
      "cell_type": "code",
      "metadata": {
        "id": "Gsif9AYAkoEl"
      },
      "source": [
        "class Decoder(tf.keras.layers.Layer):\n",
        "    def __init__(self, **kargs):\n",
        "        super(Decoder, self).__init__()\n",
        "\n",
        "        self.d_model = kargs['d_model']\n",
        "        self.num_layers = kargs['num_layers']\n",
        "\n",
        "        self.embedding = tf.keras.layers.Embedding(kargs['target_vocab_size'], self.d_model)\n",
        "        self.pos_encoding = positional_encoding(kargs['maximum_position_encoding'], self.d_model)\n",
        "\n",
        "        self.dec_layers = [DecoderLayer(**kargs) \n",
        "                           for _ in range(self.num_layers)]\n",
        "        self.dropout = tf.keras.layers.Dropout(kargs['rate'])\n",
        "\n",
        "    def call(self, x, enc_output, look_ahead_mask, padding_mask):\n",
        "        seq_len = tf.shape(x)[1]\n",
        "        attention_weights = {}\n",
        "\n",
        "        x = self.embedding(x)  # (batch_size, target_seq_len, d_model)\n",
        "        x *= tf.math.sqrt(tf.cast(self.d_model, tf.float32))\n",
        "        x += self.pos_encoding[:, :seq_len, :]\n",
        "\n",
        "        x = self.dropout(x)\n",
        "\n",
        "        for i in range(self.num_layers):\n",
        "            x, block1, block2 = self.dec_layers[i](x, enc_output, look_ahead_mask, padding_mask)\n",
        "\n",
        "            attention_weights['decoder_layer{}_block1'.format(i+1)] = block1\n",
        "            attention_weights['decoder_layer{}_block2'.format(i+1)] = block2\n",
        "\n",
        "        # x.shape == (batch_size, target_seq_len, d_model)\n",
        "        return x, attention_weights"
      ],
      "execution_count": 87,
      "outputs": []
    },
    {
      "cell_type": "code",
      "metadata": {
        "id": "Rm0R1-B_koHN"
      },
      "source": [
        "class Transformer(tf.keras.Model):\n",
        "    def __init__(self, **kargs):\n",
        "        super(Transformer, self).__init__(name=kargs['model_name'])\n",
        "        self.end_token_idx = kargs['end_token_idx']\n",
        "        \n",
        "        self.encoder = Encoder(**kargs)\n",
        "        self.decoder = Decoder(**kargs)\n",
        "\n",
        "        self.final_layer = tf.keras.layers.Dense(kargs['target_vocab_size'])\n",
        "\n",
        "    def call(self, x):\n",
        "        inp, tar = x\n",
        "\n",
        "        enc_padding_mask, look_ahead_mask, dec_padding_mask = create_masks(inp, tar)\n",
        "        enc_output = self.encoder(inp, enc_padding_mask)  # (batch_size, inp_seq_len, d_model)\n",
        "\n",
        "        # dec_output.shape == (batch_size, tar_seq_len, d_model)\n",
        "        dec_output, _ = self.decoder(\n",
        "            tar, enc_output, look_ahead_mask, dec_padding_mask)\n",
        "\n",
        "        final_output = self.final_layer(dec_output)  # (batch_size, tar_seq_len, target_vocab_size)\n",
        "\n",
        "        return final_output\n",
        "    \n",
        "    def inference(self, x):\n",
        "        inp = x\n",
        "        tar = tf.expand_dims([STD_INDEX], 0)\n",
        "\n",
        "        enc_padding_mask, look_ahead_mask, dec_padding_mask = create_masks(inp, tar)        \n",
        "        enc_output = self.encoder(inp, enc_padding_mask)\n",
        "        \n",
        "        predict_tokens = list()\n",
        "        for t in range(0, MAX_SEQUENCE):\n",
        "            dec_output, _ = self.decoder(tar, enc_output, look_ahead_mask, dec_padding_mask)\n",
        "            final_output = self.final_layer(dec_output)\n",
        "            outputs = tf.argmax(final_output, -1).numpy()\n",
        "            pred_token = outputs[0][-1]\n",
        "            if pred_token == self.end_token_idx:\n",
        "                break\n",
        "            predict_tokens.append(pred_token)\n",
        "            tar = tf.expand_dims([STD_INDEX] + predict_tokens, 0)\n",
        "            _, look_ahead_mask, dec_padding_mask = create_masks(inp, tar)\n",
        "            \n",
        "        return predict_tokens"
      ],
      "execution_count": 88,
      "outputs": []
    },
    {
      "cell_type": "code",
      "metadata": {
        "id": "3nVnrm6ukn_h"
      },
      "source": [
        "loss_object = tf.keras.losses.SparseCategoricalCrossentropy(\n",
        "    from_logits=True, reduction='none')\n",
        "\n",
        "train_accuracy = tf.keras.metrics.SparseCategoricalAccuracy(name='accuracy')\n",
        "\n",
        "def loss(real, pred):\n",
        "    mask = tf.math.logical_not(tf.math.equal(real, 0))\n",
        "    loss_ = loss_object(real, pred)\n",
        "\n",
        "    mask = tf.cast(mask, dtype=loss_.dtype)\n",
        "    loss_ *= mask\n",
        "\n",
        "    return tf.reduce_mean(loss_)\n",
        "\n",
        "def accuracy(real, pred):\n",
        "    mask = tf.math.logical_not(tf.math.equal(real, 0))\n",
        "    mask = tf.expand_dims(tf.cast(mask, dtype=pred.dtype), axis=-1)\n",
        "    pred *= mask    \n",
        "    acc = train_accuracy(real, pred)\n",
        "\n",
        "    return tf.reduce_mean(acc)"
      ],
      "execution_count": 89,
      "outputs": []
    },
    {
      "cell_type": "code",
      "metadata": {
        "id": "ceZGoMijkvCj"
      },
      "source": [
        "model = Transformer(**kargs)\n",
        "model.compile(optimizer=tf.keras.optimizers.Adam(1e-4),\n",
        "              loss=loss,\n",
        "              metrics=[accuracy])"
      ],
      "execution_count": 90,
      "outputs": []
    },
    {
      "cell_type": "code",
      "metadata": {
        "id": "8zB_0rH9kvHP",
        "outputId": "88b69d1f-3679-4547-82e0-3a49909a8a76",
        "colab": {
          "base_uri": "https://localhost:8080/",
          "height": 52
        }
      },
      "source": [
        "# overfitting을 막기 위한 ealrystop 추가\n",
        "earlystop_callback = EarlyStopping(monitor='val_accuracy', min_delta=0.0001, patience=10)\n",
        "# min_delta: the threshold that triggers the termination (acc should at least improve 0.0001)\n",
        "# patience: no improvment epochs (patience = 1, 1번 이상 상승이 없으면 종료)\n",
        "\n",
        "checkpoint_path = DATA_OUT_PATH + model_name + '/weights.h5'\n",
        "checkpoint_dir = os.path.dirname(checkpoint_path)\n",
        "\n",
        "# Create path if exists\n",
        "if os.path.exists(checkpoint_dir):\n",
        "    print(\"{} -- Folder already exists \\n\".format(checkpoint_dir))\n",
        "else:\n",
        "    os.makedirs(checkpoint_dir, exist_ok=True)\n",
        "    print(\"{} -- Folder create complete \\n\".format(checkpoint_dir))\n",
        "    \n",
        "\n",
        "cp_callback = ModelCheckpoint(\n",
        "    checkpoint_path, monitor='val_accuracy', verbose=1, save_best_only=True, save_weights_only=True)"
      ],
      "execution_count": 91,
      "outputs": [
        {
          "output_type": "stream",
          "text": [
            "output/transformer -- Folder already exists \n",
            "\n"
          ],
          "name": "stdout"
        }
      ]
    },
    {
      "cell_type": "code",
      "metadata": {
        "id": "7in2Y623kvAA",
        "outputId": "ec2b1efb-054c-4a93-f691-e79e461680f8",
        "colab": {
          "base_uri": "https://localhost:8080/",
          "height": 1000
        }
      },
      "source": [
        "history = model.fit([index_inputs, index_outputs], index_targets, \n",
        "                    batch_size=BATCH_SIZE, epochs=EPOCHS,\n",
        "                    validation_split=VALID_SPLIT, callbacks=[earlystop_callback, cp_callback])"
      ],
      "execution_count": 92,
      "outputs": [
        {
          "output_type": "stream",
          "text": [
            "Epoch 1/35\n",
            "167/167 [==============================] - ETA: 0s - loss: 1.6104 - accuracy: 0.8098\n",
            "Epoch 00001: val_accuracy improved from -inf to 0.80772, saving model to output/transformer/weights.h5\n",
            "167/167 [==============================] - 38s 225ms/step - loss: 1.6104 - accuracy: 0.8098 - val_loss: 1.6829 - val_accuracy: 0.8077\n",
            "Epoch 2/35\n",
            "167/167 [==============================] - ETA: 0s - loss: 1.3506 - accuracy: 0.8093\n",
            "Epoch 00002: val_accuracy improved from 0.80772 to 0.81101, saving model to output/transformer/weights.h5\n",
            "167/167 [==============================] - 37s 221ms/step - loss: 1.3506 - accuracy: 0.8093 - val_loss: 1.5963 - val_accuracy: 0.8110\n",
            "Epoch 3/35\n",
            "167/167 [==============================] - ETA: 0s - loss: 1.2217 - accuracy: 0.8139\n",
            "Epoch 00003: val_accuracy improved from 0.81101 to 0.81654, saving model to output/transformer/weights.h5\n",
            "167/167 [==============================] - 37s 220ms/step - loss: 1.2217 - accuracy: 0.8139 - val_loss: 1.5318 - val_accuracy: 0.8165\n",
            "Epoch 4/35\n",
            "167/167 [==============================] - ETA: 0s - loss: 1.1104 - accuracy: 0.8193\n",
            "Epoch 00004: val_accuracy improved from 0.81654 to 0.82188, saving model to output/transformer/weights.h5\n",
            "167/167 [==============================] - 37s 220ms/step - loss: 1.1104 - accuracy: 0.8193 - val_loss: 1.5025 - val_accuracy: 0.8219\n",
            "Epoch 5/35\n",
            "167/167 [==============================] - ETA: 0s - loss: 1.0098 - accuracy: 0.8246\n",
            "Epoch 00005: val_accuracy improved from 0.82188 to 0.82699, saving model to output/transformer/weights.h5\n",
            "167/167 [==============================] - 37s 219ms/step - loss: 1.0098 - accuracy: 0.8246 - val_loss: 1.4826 - val_accuracy: 0.8270\n",
            "Epoch 6/35\n",
            "167/167 [==============================] - ETA: 0s - loss: 0.9161 - accuracy: 0.8297\n",
            "Epoch 00006: val_accuracy improved from 0.82699 to 0.83200, saving model to output/transformer/weights.h5\n",
            "167/167 [==============================] - 37s 220ms/step - loss: 0.9161 - accuracy: 0.8297 - val_loss: 1.4740 - val_accuracy: 0.8320\n",
            "Epoch 7/35\n",
            "167/167 [==============================] - ETA: 0s - loss: 0.8250 - accuracy: 0.8345\n",
            "Epoch 00007: val_accuracy improved from 0.83200 to 0.83695, saving model to output/transformer/weights.h5\n",
            "167/167 [==============================] - 37s 221ms/step - loss: 0.8250 - accuracy: 0.8345 - val_loss: 1.4852 - val_accuracy: 0.8370\n",
            "Epoch 8/35\n",
            "167/167 [==============================] - ETA: 0s - loss: 0.7376 - accuracy: 0.8396\n",
            "Epoch 00008: val_accuracy improved from 0.83695 to 0.84188, saving model to output/transformer/weights.h5\n",
            "167/167 [==============================] - 37s 221ms/step - loss: 0.7376 - accuracy: 0.8396 - val_loss: 1.4881 - val_accuracy: 0.8419\n",
            "Epoch 9/35\n",
            "167/167 [==============================] - ETA: 0s - loss: 0.6549 - accuracy: 0.8445\n",
            "Epoch 00009: val_accuracy improved from 0.84188 to 0.84685, saving model to output/transformer/weights.h5\n",
            "167/167 [==============================] - 37s 222ms/step - loss: 0.6549 - accuracy: 0.8445 - val_loss: 1.5003 - val_accuracy: 0.8468\n",
            "Epoch 10/35\n",
            "167/167 [==============================] - ETA: 0s - loss: 0.5763 - accuracy: 0.8495\n",
            "Epoch 00010: val_accuracy improved from 0.84685 to 0.85188, saving model to output/transformer/weights.h5\n",
            "167/167 [==============================] - 37s 220ms/step - loss: 0.5763 - accuracy: 0.8495 - val_loss: 1.5115 - val_accuracy: 0.8519\n",
            "Epoch 11/35\n",
            "167/167 [==============================] - ETA: 0s - loss: 0.5033 - accuracy: 0.8545\n",
            "Epoch 00011: val_accuracy improved from 0.85188 to 0.85691, saving model to output/transformer/weights.h5\n",
            "167/167 [==============================] - 37s 220ms/step - loss: 0.5033 - accuracy: 0.8545 - val_loss: 1.5199 - val_accuracy: 0.8569\n",
            "Epoch 12/35\n",
            "167/167 [==============================] - ETA: 0s - loss: 0.4352 - accuracy: 0.8596\n",
            "Epoch 00012: val_accuracy improved from 0.85691 to 0.86200, saving model to output/transformer/weights.h5\n",
            "167/167 [==============================] - 37s 220ms/step - loss: 0.4352 - accuracy: 0.8596 - val_loss: 1.5518 - val_accuracy: 0.8620\n",
            "Epoch 13/35\n",
            "167/167 [==============================] - ETA: 0s - loss: 0.3735 - accuracy: 0.8646\n",
            "Epoch 00013: val_accuracy improved from 0.86200 to 0.86706, saving model to output/transformer/weights.h5\n",
            "167/167 [==============================] - 37s 221ms/step - loss: 0.3735 - accuracy: 0.8646 - val_loss: 1.5616 - val_accuracy: 0.8671\n",
            "Epoch 14/35\n",
            "167/167 [==============================] - ETA: 0s - loss: 0.3183 - accuracy: 0.8697\n",
            "Epoch 00014: val_accuracy improved from 0.86706 to 0.87205, saving model to output/transformer/weights.h5\n",
            "167/167 [==============================] - 37s 220ms/step - loss: 0.3183 - accuracy: 0.8697 - val_loss: 1.5813 - val_accuracy: 0.8720\n",
            "Epoch 15/35\n",
            "167/167 [==============================] - ETA: 0s - loss: 0.2678 - accuracy: 0.8746\n",
            "Epoch 00015: val_accuracy improved from 0.87205 to 0.87693, saving model to output/transformer/weights.h5\n",
            "167/167 [==============================] - 37s 222ms/step - loss: 0.2678 - accuracy: 0.8746 - val_loss: 1.5993 - val_accuracy: 0.8769\n",
            "Epoch 16/35\n",
            "167/167 [==============================] - ETA: 0s - loss: 0.2234 - accuracy: 0.8794\n",
            "Epoch 00016: val_accuracy improved from 0.87693 to 0.88165, saving model to output/transformer/weights.h5\n",
            "167/167 [==============================] - 37s 220ms/step - loss: 0.2234 - accuracy: 0.8794 - val_loss: 1.6157 - val_accuracy: 0.8817\n",
            "Epoch 17/35\n",
            "167/167 [==============================] - ETA: 0s - loss: 0.1857 - accuracy: 0.8840\n",
            "Epoch 00017: val_accuracy improved from 0.88165 to 0.88620, saving model to output/transformer/weights.h5\n",
            "167/167 [==============================] - 37s 222ms/step - loss: 0.1857 - accuracy: 0.8840 - val_loss: 1.6351 - val_accuracy: 0.8862\n",
            "Epoch 18/35\n",
            "167/167 [==============================] - ETA: 0s - loss: 0.1534 - accuracy: 0.8885\n",
            "Epoch 00018: val_accuracy improved from 0.88620 to 0.89052, saving model to output/transformer/weights.h5\n",
            "167/167 [==============================] - 37s 219ms/step - loss: 0.1534 - accuracy: 0.8885 - val_loss: 1.6555 - val_accuracy: 0.8905\n",
            "Epoch 19/35\n",
            "167/167 [==============================] - ETA: 0s - loss: 0.1263 - accuracy: 0.8926\n",
            "Epoch 00019: val_accuracy improved from 0.89052 to 0.89461, saving model to output/transformer/weights.h5\n",
            "167/167 [==============================] - 37s 219ms/step - loss: 0.1263 - accuracy: 0.8926 - val_loss: 1.6615 - val_accuracy: 0.8946\n",
            "Epoch 20/35\n",
            "167/167 [==============================] - ETA: 0s - loss: 0.1024 - accuracy: 0.8966\n",
            "Epoch 00020: val_accuracy improved from 0.89461 to 0.89848, saving model to output/transformer/weights.h5\n",
            "167/167 [==============================] - 36s 218ms/step - loss: 0.1024 - accuracy: 0.8966 - val_loss: 1.6921 - val_accuracy: 0.8985\n",
            "Epoch 21/35\n",
            "167/167 [==============================] - ETA: 0s - loss: 0.0827 - accuracy: 0.9004\n",
            "Epoch 00021: val_accuracy improved from 0.89848 to 0.90213, saving model to output/transformer/weights.h5\n",
            "167/167 [==============================] - 37s 219ms/step - loss: 0.0827 - accuracy: 0.9004 - val_loss: 1.7034 - val_accuracy: 0.9021\n",
            "Epoch 22/35\n",
            "167/167 [==============================] - ETA: 0s - loss: 0.0677 - accuracy: 0.9039\n",
            "Epoch 00022: val_accuracy improved from 0.90213 to 0.90551, saving model to output/transformer/weights.h5\n",
            "167/167 [==============================] - 37s 221ms/step - loss: 0.0677 - accuracy: 0.9039 - val_loss: 1.7272 - val_accuracy: 0.9055\n",
            "Epoch 23/35\n",
            "167/167 [==============================] - ETA: 0s - loss: 0.0556 - accuracy: 0.9071\n",
            "Epoch 00023: val_accuracy improved from 0.90551 to 0.90866, saving model to output/transformer/weights.h5\n",
            "167/167 [==============================] - 37s 219ms/step - loss: 0.0556 - accuracy: 0.9071 - val_loss: 1.7335 - val_accuracy: 0.9087\n",
            "Epoch 24/35\n",
            "167/167 [==============================] - ETA: 0s - loss: 0.0451 - accuracy: 0.9102\n",
            "Epoch 00024: val_accuracy improved from 0.90866 to 0.91158, saving model to output/transformer/weights.h5\n",
            "167/167 [==============================] - 37s 221ms/step - loss: 0.0451 - accuracy: 0.9102 - val_loss: 1.7537 - val_accuracy: 0.9116\n",
            "Epoch 25/35\n",
            "167/167 [==============================] - ETA: 0s - loss: 0.0366 - accuracy: 0.9130\n",
            "Epoch 00025: val_accuracy improved from 0.91158 to 0.91430, saving model to output/transformer/weights.h5\n",
            "167/167 [==============================] - 37s 219ms/step - loss: 0.0366 - accuracy: 0.9130 - val_loss: 1.7702 - val_accuracy: 0.9143\n",
            "Epoch 26/35\n",
            "167/167 [==============================] - ETA: 0s - loss: 0.0306 - accuracy: 0.9156\n",
            "Epoch 00026: val_accuracy improved from 0.91430 to 0.91682, saving model to output/transformer/weights.h5\n",
            "167/167 [==============================] - 37s 219ms/step - loss: 0.0306 - accuracy: 0.9156 - val_loss: 1.7882 - val_accuracy: 0.9168\n",
            "Epoch 27/35\n",
            "167/167 [==============================] - ETA: 0s - loss: 0.0257 - accuracy: 0.9180\n",
            "Epoch 00027: val_accuracy improved from 0.91682 to 0.91916, saving model to output/transformer/weights.h5\n",
            "167/167 [==============================] - 37s 220ms/step - loss: 0.0257 - accuracy: 0.9180 - val_loss: 1.7998 - val_accuracy: 0.9192\n",
            "Epoch 28/35\n",
            "167/167 [==============================] - ETA: 0s - loss: 0.0222 - accuracy: 0.9203\n",
            "Epoch 00028: val_accuracy improved from 0.91916 to 0.92134, saving model to output/transformer/weights.h5\n",
            "167/167 [==============================] - 37s 220ms/step - loss: 0.0222 - accuracy: 0.9203 - val_loss: 1.8190 - val_accuracy: 0.9213\n",
            "Epoch 29/35\n",
            "167/167 [==============================] - ETA: 0s - loss: 0.0193 - accuracy: 0.9224\n",
            "Epoch 00029: val_accuracy improved from 0.92134 to 0.92337, saving model to output/transformer/weights.h5\n",
            "167/167 [==============================] - 37s 219ms/step - loss: 0.0193 - accuracy: 0.9224 - val_loss: 1.8236 - val_accuracy: 0.9234\n",
            "Epoch 30/35\n",
            "167/167 [==============================] - ETA: 0s - loss: 0.0172 - accuracy: 0.9244\n",
            "Epoch 00030: val_accuracy improved from 0.92337 to 0.92527, saving model to output/transformer/weights.h5\n",
            "167/167 [==============================] - 37s 219ms/step - loss: 0.0172 - accuracy: 0.9244 - val_loss: 1.8330 - val_accuracy: 0.9253\n",
            "Epoch 31/35\n",
            "167/167 [==============================] - ETA: 0s - loss: 0.0154 - accuracy: 0.9262\n",
            "Epoch 00031: val_accuracy improved from 0.92527 to 0.92705, saving model to output/transformer/weights.h5\n",
            "167/167 [==============================] - 36s 218ms/step - loss: 0.0154 - accuracy: 0.9262 - val_loss: 1.8475 - val_accuracy: 0.9271\n",
            "Epoch 32/35\n",
            "167/167 [==============================] - ETA: 0s - loss: 0.0140 - accuracy: 0.9279\n",
            "Epoch 00032: val_accuracy improved from 0.92705 to 0.92872, saving model to output/transformer/weights.h5\n",
            "167/167 [==============================] - 36s 217ms/step - loss: 0.0140 - accuracy: 0.9279 - val_loss: 1.8599 - val_accuracy: 0.9287\n",
            "Epoch 33/35\n",
            "167/167 [==============================] - ETA: 0s - loss: 0.0131 - accuracy: 0.9295\n",
            "Epoch 00033: val_accuracy improved from 0.92872 to 0.93028, saving model to output/transformer/weights.h5\n",
            "167/167 [==============================] - 37s 219ms/step - loss: 0.0131 - accuracy: 0.9295 - val_loss: 1.8743 - val_accuracy: 0.9303\n",
            "Epoch 34/35\n",
            "167/167 [==============================] - ETA: 0s - loss: 0.0119 - accuracy: 0.9310\n",
            "Epoch 00034: val_accuracy improved from 0.93028 to 0.93175, saving model to output/transformer/weights.h5\n",
            "167/167 [==============================] - 37s 219ms/step - loss: 0.0119 - accuracy: 0.9310 - val_loss: 1.8762 - val_accuracy: 0.9318\n",
            "Epoch 35/35\n",
            "167/167 [==============================] - ETA: 0s - loss: 0.0112 - accuracy: 0.9325\n",
            "Epoch 00035: val_accuracy improved from 0.93175 to 0.93315, saving model to output/transformer/weights.h5\n",
            "167/167 [==============================] - 37s 219ms/step - loss: 0.0112 - accuracy: 0.9325 - val_loss: 1.9054 - val_accuracy: 0.9331\n"
          ],
          "name": "stdout"
        }
      ]
    },
    {
      "cell_type": "code",
      "metadata": {
        "id": "gICGO5ydePU4"
      },
      "source": [
        "DATA_OUT_PATH = 'output/'\n",
        "SAVE_FILE_NM = 'weights.h5'\n",
        "\n",
        "model.load_weights(os.path.join(DATA_OUT_PATH, model_name, SAVE_FILE_NM))"
      ],
      "execution_count": 95,
      "outputs": []
    },
    {
      "cell_type": "code",
      "metadata": {
        "id": "xsix3s_-e-4_",
        "outputId": "ce16c584-1d65-47dd-9656-a4f3842a35c6",
        "colab": {
          "base_uri": "https://localhost:8080/",
          "height": 34
        }
      },
      "source": [
        "char2idx = prepro_configs['char2idx']\n",
        "idx2char = prepro_configs['idx2char']\n",
        "\n",
        "text = \"남자친구 승진 선물로 뭐가 좋을까?\"\n",
        "test_index_inputs, _ = enc_processing([text], char2idx)\n",
        "outputs = model.inference(test_index_inputs)\n",
        "\n",
        "print(' '.join([idx2char[str(o)] for o in outputs]))"
      ],
      "execution_count": 97,
      "outputs": [
        {
          "output_type": "stream",
          "text": [
            "평소 에 필요했던게 좋을것 같아요\n"
          ],
          "name": "stdout"
        }
      ]
    }
  ]
}
