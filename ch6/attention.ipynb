{
  "nbformat": 4,
  "nbformat_minor": 0,
  "metadata": {
    "colab": {
      "name": "ch6_attention.ipynb",
      "provenance": [],
      "collapsed_sections": [],
      "mount_file_id": "1Pu00hJywa1c9mG2sZ0rKv5F5gEDp7DG5",
      "authorship_tag": "ABX9TyM/x0/lfA7MYZ+mXWsfUAyd",
      "include_colab_link": true
    },
    "kernelspec": {
      "name": "python3",
      "display_name": "Python 3"
    },
    "accelerator": "GPU"
  },
  "cells": [
    {
      "cell_type": "markdown",
      "metadata": {
        "id": "view-in-github",
        "colab_type": "text"
      },
      "source": [
        "<a href=\"https://colab.research.google.com/github/silverstar0727/NLP_study/blob/main/ch6_attention.ipynb\" target=\"_parent\"><img src=\"https://colab.research.google.com/assets/colab-badge.svg\" alt=\"Open In Colab\"/></a>"
      ]
    },
    {
      "cell_type": "code",
      "metadata": {
        "id": "DbziLfOEdroF",
        "outputId": "e57316f1-2bf9-4e35-eebe-8a70034f3a13",
        "colab": {
          "base_uri": "https://localhost:8080/",
          "height": 34
        }
      },
      "source": [
        "cd /content/drive/My Drive/ml/nlp/book/ch6"
      ],
      "execution_count": null,
      "outputs": [
        {
          "output_type": "stream",
          "text": [
            "/content/drive/My Drive/ml/nlp/book/ch6\n"
          ],
          "name": "stdout"
        }
      ]
    },
    {
      "cell_type": "code",
      "metadata": {
        "id": "a_9O8cKBddeW"
      },
      "source": [
        "import tensorflow as tf\n",
        "import numpy as np\n",
        "import os\n",
        "\n",
        "from tensorflow.keras.callbacks import EarlyStopping, ModelCheckpoint\n",
        "import matplotlib.pyplot as plt\n",
        "from preprocess import *"
      ],
      "execution_count": null,
      "outputs": []
    },
    {
      "cell_type": "code",
      "metadata": {
        "id": "qdLaC2b2ddbv"
      },
      "source": [
        "!pip install -q konlpy\n",
        "!pip install -q preprocessing"
      ],
      "execution_count": null,
      "outputs": []
    },
    {
      "cell_type": "code",
      "metadata": {
        "id": "yjtXF6wqddZK"
      },
      "source": [
        "def plot_graphs(history, string):\n",
        "    plt.plot(history.history[string])\n",
        "    plt.plot(history.history['val_'+string], '')\n",
        "    plt.xlabel(\"Epochs\")\n",
        "    plt.ylabel(string)\n",
        "    plt.legend([string, 'val_'+string])\n",
        "    plt.show()"
      ],
      "execution_count": null,
      "outputs": []
    },
    {
      "cell_type": "code",
      "metadata": {
        "id": "OAQMupRGddWl"
      },
      "source": [
        "DATA_OUT_PATH = 'output/'\n",
        "TRAIN_INPUTS = 'train_inputs.npy'\n",
        "TRAIN_OUTPUTS = 'train_outputs.npy'\n",
        "TRAIN_TARGETS = 'train_targets.npy'\n",
        "DATA_CONFIGS = 'data_configs.json'\n",
        "\n",
        "SEED_NUM = 1234\n",
        "tf.random.set_seed(SEED_NUM)"
      ],
      "execution_count": null,
      "outputs": []
    },
    {
      "cell_type": "code",
      "metadata": {
        "id": "PncNbwewddUI"
      },
      "source": [
        "index_inputs = np.load(open(TRAIN_INPUTS, 'rb'))\n",
        "index_outputs = np.load(open(TRAIN_OUTPUTS , 'rb'))\n",
        "index_targets = np.load(open(TRAIN_TARGETS , 'rb'))\n",
        "prepro_configs = json.load(open(DATA_CONFIGS, 'r'))"
      ],
      "execution_count": null,
      "outputs": []
    },
    {
      "cell_type": "code",
      "metadata": {
        "id": "a4QYUsa5ddRr",
        "outputId": "77cf2a6d-7254-4b7d-e4e1-6ea533bdd0f0",
        "colab": {
          "base_uri": "https://localhost:8080/",
          "height": 34
        }
      },
      "source": [
        "# Show length\n",
        "print(len(index_inputs),  len(index_outputs), len(index_targets))"
      ],
      "execution_count": null,
      "outputs": [
        {
          "output_type": "stream",
          "text": [
            "20 20 20\n"
          ],
          "name": "stdout"
        }
      ]
    },
    {
      "cell_type": "code",
      "metadata": {
        "id": "o6HuKmlFddPe"
      },
      "source": [
        "MODEL_NAME = 'seq2seq_kor'\n",
        "BATCH_SIZE = 2\n",
        "MAX_SEQUENCE = 25\n",
        "EPOCH = 80\n",
        "UNITS = 1024\n",
        "EMBEDDING_DIM = 256\n",
        "VALIDATION_SPLIT = 0.1 \n",
        "\n",
        "char2idx = prepro_configs['char2idx']\n",
        "idx2char = prepro_configs['idx2char']\n",
        "std_index = prepro_configs['std_symbol']\n",
        "end_index = prepro_configs['end_symbol']\n",
        "vocab_size = prepro_configs['vocab_size']"
      ],
      "execution_count": null,
      "outputs": []
    },
    {
      "cell_type": "code",
      "metadata": {
        "id": "V31Y4Ju7ddNT"
      },
      "source": [
        "class Encoder(tf.keras.layers.Layer):\n",
        "    def __init__(self, vocab_size, embedding_dim, enc_units, batch_sz):\n",
        "        super(Encoder, self).__init__()\n",
        "        self.batch_sz = batch_sz\n",
        "        self.enc_units = enc_units\n",
        "        self.vocab_size = vocab_size \n",
        "        self.embedding_dim = embedding_dim          \n",
        "        \n",
        "        self.embedding = tf.keras.layers.Embedding(self.vocab_size, self.embedding_dim)\n",
        "        self.gru = tf.keras.layers.GRU(self.enc_units,\n",
        "                                       return_sequences=True,\n",
        "                                       return_state=True,\n",
        "                                       recurrent_initializer='glorot_uniform')\n",
        "\n",
        "    def call(self, x, hidden):\n",
        "        x = self.embedding(x)\n",
        "        output, state = self.gru(x, initial_state = hidden)\n",
        "        return output, state\n",
        "\n",
        "    def initialize_hidden_state(self, inp):\n",
        "        return tf.zeros((tf.shape(inp)[0], self.enc_units))"
      ],
      "execution_count": null,
      "outputs": []
    },
    {
      "cell_type": "code",
      "metadata": {
        "id": "Ri_raV0_ddKl"
      },
      "source": [
        "class BahdanauAttention(tf.keras.layers.Layer):\n",
        "    def __init__(self, units):\n",
        "        super(BahdanauAttention, self).__init__()\n",
        "        self.W1 = tf.keras.layers.Dense(units)\n",
        "        self.W2 = tf.keras.layers.Dense(units)\n",
        "        self.V = tf.keras.layers.Dense(1)\n",
        "\n",
        "    def call(self, query, values):\n",
        "        hidden_with_time_axis = tf.expand_dims(query, 1)\n",
        "\n",
        "        score = self.V(tf.nn.tanh(\n",
        "            self.W1(values) + self.W2(hidden_with_time_axis)))\n",
        "\n",
        "        attention_weights = tf.nn.softmax(score, axis=1)\n",
        "\n",
        "        context_vector = attention_weights * values\n",
        "        context_vector = tf.reduce_sum(context_vector, axis=1)\n",
        "\n",
        "        return context_vector, attention_weights"
      ],
      "execution_count": null,
      "outputs": []
    },
    {
      "cell_type": "code",
      "metadata": {
        "id": "TgJtcqc6eJGn"
      },
      "source": [
        "class Decoder(tf.keras.layers.Layer):\n",
        "    def __init__(self, vocab_size, embedding_dim, dec_units, batch_sz):\n",
        "        super(Decoder, self).__init__()\n",
        "        \n",
        "        self.batch_sz = batch_sz\n",
        "        self.dec_units = dec_units\n",
        "        self.vocab_size = vocab_size \n",
        "        self.embedding_dim = embedding_dim  \n",
        "        \n",
        "        self.embedding = tf.keras.layers.Embedding(self.vocab_size, self.embedding_dim)\n",
        "        self.gru = tf.keras.layers.GRU(self.dec_units,\n",
        "                                       return_sequences=True,\n",
        "                                       return_state=True,\n",
        "                                       recurrent_initializer='glorot_uniform')\n",
        "        self.fc = tf.keras.layers.Dense(self.vocab_size)\n",
        "\n",
        "        self.attention = BahdanauAttention(self.dec_units)\n",
        "        \n",
        "    def call(self, x, hidden, enc_output):\n",
        "        context_vector, attention_weights = self.attention(hidden, enc_output)\n",
        "\n",
        "        x = self.embedding(x)\n",
        "\n",
        "        x = tf.concat([tf.expand_dims(context_vector, 1), x], axis=-1)\n",
        "\n",
        "        output, state = self.gru(x)\n",
        "        output = tf.reshape(output, (-1, output.shape[2]))\n",
        "            \n",
        "        x = self.fc(output)\n",
        "        \n",
        "        return x, state, attention_weights"
      ],
      "execution_count": null,
      "outputs": []
    },
    {
      "cell_type": "code",
      "metadata": {
        "id": "ERLPbWdGddIU"
      },
      "source": [
        "optimizer = tf.keras.optimizers.Adam()\n",
        "\n",
        "loss_object = tf.keras.losses.SparseCategoricalCrossentropy(from_logits=True, reduction='none')\n",
        "\n",
        "train_accuracy = tf.keras.metrics.SparseCategoricalAccuracy(name='accuracy')\n",
        "\n",
        "def loss(real, pred):\n",
        "    mask = tf.math.logical_not(tf.math.equal(real, 0))\n",
        "    loss_ = loss_object(real, pred)\n",
        "    mask = tf.cast(mask, dtype=loss_.dtype)\n",
        "    loss_ *= mask\n",
        "    return tf.reduce_mean(loss_)\n",
        "\n",
        "def accuracy(real, pred):\n",
        "    mask = tf.math.logical_not(tf.math.equal(real, 0))\n",
        "    mask = tf.expand_dims(tf.cast(mask, dtype=pred.dtype), axis=-1)\n",
        "    pred *= mask    \n",
        "    acc = train_accuracy(real, pred)\n",
        "\n",
        "    return tf.reduce_mean(acc)"
      ],
      "execution_count": null,
      "outputs": []
    },
    {
      "cell_type": "code",
      "metadata": {
        "id": "THOSddGbeLRW"
      },
      "source": [
        "class seq2seq(tf.keras.Model):\n",
        "    def __init__(self, vocab_size, embedding_dim, enc_units, dec_units, batch_sz, end_token_idx=2):    \n",
        "        super(seq2seq, self).__init__()\n",
        "        self.end_token_idx = end_token_idx\n",
        "        self.encoder = Encoder(vocab_size, embedding_dim, enc_units, batch_sz) \n",
        "        self.decoder = Decoder(vocab_size, embedding_dim, dec_units, batch_sz) \n",
        "\n",
        "    def call(self, x):\n",
        "        inp, tar = x\n",
        "        \n",
        "        enc_hidden = self.encoder.initialize_hidden_state(inp)\n",
        "        enc_output, enc_hidden = self.encoder(inp, enc_hidden)\n",
        "\n",
        "        dec_hidden = enc_hidden\n",
        "\n",
        "        predict_tokens = list()\n",
        "        for t in range(0, tar.shape[1]):\n",
        "            dec_input = tf.dtypes.cast(tf.expand_dims(tar[:, t], 1), tf.float32) \n",
        "            predictions, dec_hidden, _ = self.decoder(dec_input, dec_hidden, enc_output)\n",
        "            predict_tokens.append(tf.dtypes.cast(predictions, tf.float32))   \n",
        "        return tf.stack(predict_tokens, axis=1)\n",
        "    \n",
        "    def inference(self, x):\n",
        "        inp  = x\n",
        "\n",
        "        enc_hidden = self.encoder.initialize_hidden_state(inp)\n",
        "        enc_output, enc_hidden = self.encoder(inp, enc_hidden)\n",
        "\n",
        "        dec_hidden = enc_hidden\n",
        "        \n",
        "        dec_input = tf.expand_dims([char2idx[std_index]], 1)\n",
        "        \n",
        "        predict_tokens = list()\n",
        "        for t in range(0, MAX_SEQUENCE):\n",
        "            predictions, dec_hidden, _ = self.decoder(dec_input, dec_hidden, enc_output)\n",
        "            predict_token = tf.argmax(predictions[0])\n",
        "            \n",
        "            if predict_token == self.end_token_idx:\n",
        "                break\n",
        "            \n",
        "            predict_tokens.append(predict_token)\n",
        "            dec_input = tf.dtypes.cast(tf.expand_dims([predict_token], 0), tf.float32)   \n",
        "            \n",
        "        return tf.stack(predict_tokens, axis=0).numpy()"
      ],
      "execution_count": null,
      "outputs": []
    },
    {
      "cell_type": "code",
      "metadata": {
        "id": "VwJGj4PDePJM"
      },
      "source": [
        "model = seq2seq(vocab_size, EMBEDDING_DIM, UNITS, UNITS, BATCH_SIZE, char2idx[end_index])\n",
        "model.compile(loss=loss, optimizer=tf.keras.optimizers.Adam(1e-3), metrics=[accuracy])\n",
        "#model.run_eagerly = True"
      ],
      "execution_count": null,
      "outputs": []
    },
    {
      "cell_type": "code",
      "metadata": {
        "id": "ruyfrLkYePLl",
        "outputId": "3d16539e-5217-4223-ec69-e5e01853bc58",
        "colab": {
          "base_uri": "https://localhost:8080/",
          "height": 1000
        }
      },
      "source": [
        "PATH = DATA_OUT_PATH + MODEL_NAME\n",
        "if not(os.path.isdir(PATH)):\n",
        "        os.makedirs(os.path.join(PATH))\n",
        "        \n",
        "checkpoint_path = DATA_OUT_PATH + MODEL_NAME + '/weights.h5'\n",
        "    \n",
        "cp_callback = ModelCheckpoint(\n",
        "    checkpoint_path, monitor='val_accuracy', verbose=1, save_best_only=True, save_weights_only=True)\n",
        "\n",
        "earlystop_callback = EarlyStopping(monitor='val_accuracy', min_delta=0.0001, patience=10)\n",
        "\n",
        "history = model.fit([index_inputs, index_outputs], index_targets,\n",
        "                    batch_size=BATCH_SIZE, epochs=EPOCH,\n",
        "                    validation_split=VALIDATION_SPLIT, callbacks=[earlystop_callback, cp_callback])"
      ],
      "execution_count": null,
      "outputs": [
        {
          "output_type": "stream",
          "text": [
            "Epoch 1/80\n",
            "9/9 [==============================] - ETA: 0s - loss: 0.8379 - accuracy: 0.8360\n",
            "Epoch 00001: val_accuracy improved from -inf to 0.85400, saving model to output/seq2seq_kor/weights.h5\n",
            "9/9 [==============================] - 8s 867ms/step - loss: 0.8379 - accuracy: 0.8360 - val_loss: 0.6949 - val_accuracy: 0.8540\n",
            "Epoch 2/80\n",
            "9/9 [==============================] - ETA: 0s - loss: 0.7573 - accuracy: 0.8527\n",
            "Epoch 00002: val_accuracy improved from 0.85400 to 0.85600, saving model to output/seq2seq_kor/weights.h5\n",
            "9/9 [==============================] - 1s 97ms/step - loss: 0.7573 - accuracy: 0.8527 - val_loss: 0.6158 - val_accuracy: 0.8560\n",
            "Epoch 3/80\n",
            "9/9 [==============================] - ETA: 0s - loss: 0.6738 - accuracy: 0.8572\n",
            "Epoch 00003: val_accuracy improved from 0.85600 to 0.85667, saving model to output/seq2seq_kor/weights.h5\n",
            "9/9 [==============================] - 2s 176ms/step - loss: 0.6738 - accuracy: 0.8572 - val_loss: 0.5787 - val_accuracy: 0.8567\n",
            "Epoch 4/80\n",
            "9/9 [==============================] - ETA: 0s - loss: 0.6241 - accuracy: 0.8572\n",
            "Epoch 00004: val_accuracy improved from 0.85667 to 0.85700, saving model to output/seq2seq_kor/weights.h5\n",
            "9/9 [==============================] - 1s 98ms/step - loss: 0.6241 - accuracy: 0.8572 - val_loss: 0.5590 - val_accuracy: 0.8570\n",
            "Epoch 5/80\n",
            "9/9 [==============================] - ETA: 0s - loss: 0.5777 - accuracy: 0.8582\n",
            "Epoch 00005: val_accuracy improved from 0.85700 to 0.85800, saving model to output/seq2seq_kor/weights.h5\n",
            "9/9 [==============================] - 2s 172ms/step - loss: 0.5777 - accuracy: 0.8582 - val_loss: 0.5071 - val_accuracy: 0.8580\n",
            "Epoch 6/80\n",
            "9/9 [==============================] - ETA: 0s - loss: 0.5253 - accuracy: 0.8574\n",
            "Epoch 00006: val_accuracy improved from 0.85800 to 0.85833, saving model to output/seq2seq_kor/weights.h5\n",
            "9/9 [==============================] - 2s 170ms/step - loss: 0.5253 - accuracy: 0.8574 - val_loss: 0.4476 - val_accuracy: 0.8583\n",
            "Epoch 7/80\n",
            "9/9 [==============================] - ETA: 0s - loss: 0.4701 - accuracy: 0.8589\n",
            "Epoch 00007: val_accuracy improved from 0.85833 to 0.86000, saving model to output/seq2seq_kor/weights.h5\n",
            "9/9 [==============================] - 2s 173ms/step - loss: 0.4701 - accuracy: 0.8589 - val_loss: 0.4074 - val_accuracy: 0.8600\n",
            "Epoch 8/80\n",
            "9/9 [==============================] - ETA: 0s - loss: 0.4181 - accuracy: 0.8623\n",
            "Epoch 00008: val_accuracy improved from 0.86000 to 0.86375, saving model to output/seq2seq_kor/weights.h5\n",
            "9/9 [==============================] - 2s 169ms/step - loss: 0.4181 - accuracy: 0.8623 - val_loss: 0.3639 - val_accuracy: 0.8637\n",
            "Epoch 9/80\n",
            "9/9 [==============================] - ETA: 0s - loss: 0.3614 - accuracy: 0.8661\n",
            "Epoch 00009: val_accuracy improved from 0.86375 to 0.86867, saving model to output/seq2seq_kor/weights.h5\n",
            "9/9 [==============================] - 1s 164ms/step - loss: 0.3614 - accuracy: 0.8661 - val_loss: 0.3238 - val_accuracy: 0.8687\n",
            "Epoch 10/80\n",
            "9/9 [==============================] - ETA: 0s - loss: 0.3206 - accuracy: 0.8729\n",
            "Epoch 00010: val_accuracy improved from 0.86867 to 0.87720, saving model to output/seq2seq_kor/weights.h5\n",
            "9/9 [==============================] - 2s 175ms/step - loss: 0.3206 - accuracy: 0.8729 - val_loss: 0.2696 - val_accuracy: 0.8772\n",
            "Epoch 11/80\n",
            "9/9 [==============================] - ETA: 0s - loss: 0.2750 - accuracy: 0.8811\n",
            "Epoch 00011: val_accuracy improved from 0.87720 to 0.88436, saving model to output/seq2seq_kor/weights.h5\n",
            "9/9 [==============================] - 1s 107ms/step - loss: 0.2750 - accuracy: 0.8811 - val_loss: 0.2402 - val_accuracy: 0.8844\n",
            "Epoch 12/80\n",
            "9/9 [==============================] - ETA: 0s - loss: 0.2229 - accuracy: 0.8877\n",
            "Epoch 00012: val_accuracy improved from 0.88436 to 0.89067, saving model to output/seq2seq_kor/weights.h5\n",
            "9/9 [==============================] - 2s 171ms/step - loss: 0.2229 - accuracy: 0.8877 - val_loss: 0.2008 - val_accuracy: 0.8907\n",
            "Epoch 13/80\n",
            "9/9 [==============================] - ETA: 0s - loss: 0.1963 - accuracy: 0.8933\n",
            "Epoch 00013: val_accuracy improved from 0.89067 to 0.89569, saving model to output/seq2seq_kor/weights.h5\n",
            "9/9 [==============================] - 2s 168ms/step - loss: 0.1963 - accuracy: 0.8933 - val_loss: 0.2164 - val_accuracy: 0.8957\n",
            "Epoch 14/80\n",
            "9/9 [==============================] - ETA: 0s - loss: 0.1782 - accuracy: 0.8980\n",
            "Epoch 00014: val_accuracy improved from 0.89569 to 0.90000, saving model to output/seq2seq_kor/weights.h5\n",
            "9/9 [==============================] - 2s 169ms/step - loss: 0.1782 - accuracy: 0.8980 - val_loss: 0.1171 - val_accuracy: 0.9000\n",
            "Epoch 15/80\n",
            "9/9 [==============================] - ETA: 0s - loss: 0.1548 - accuracy: 0.9019\n",
            "Epoch 00015: val_accuracy improved from 0.90000 to 0.90373, saving model to output/seq2seq_kor/weights.h5\n",
            "9/9 [==============================] - 2s 171ms/step - loss: 0.1548 - accuracy: 0.9019 - val_loss: 0.1485 - val_accuracy: 0.9037\n",
            "Epoch 16/80\n",
            "9/9 [==============================] - ETA: 0s - loss: 0.1443 - accuracy: 0.9056\n",
            "Epoch 00016: val_accuracy improved from 0.90373 to 0.90725, saving model to output/seq2seq_kor/weights.h5\n",
            "9/9 [==============================] - 2s 168ms/step - loss: 0.1443 - accuracy: 0.9056 - val_loss: 0.1152 - val_accuracy: 0.9072\n",
            "Epoch 17/80\n",
            "9/9 [==============================] - ETA: 0s - loss: 0.1312 - accuracy: 0.9088\n",
            "Epoch 00017: val_accuracy improved from 0.90725 to 0.91024, saving model to output/seq2seq_kor/weights.h5\n",
            "9/9 [==============================] - 2s 175ms/step - loss: 0.1312 - accuracy: 0.9088 - val_loss: 0.1249 - val_accuracy: 0.9102\n",
            "Epoch 18/80\n",
            "9/9 [==============================] - ETA: 0s - loss: 0.1285 - accuracy: 0.9116\n",
            "Epoch 00018: val_accuracy improved from 0.91024 to 0.91289, saving model to output/seq2seq_kor/weights.h5\n",
            "9/9 [==============================] - 1s 93ms/step - loss: 0.1285 - accuracy: 0.9116 - val_loss: 0.1259 - val_accuracy: 0.9129\n",
            "Epoch 19/80\n",
            "9/9 [==============================] - ETA: 0s - loss: 0.1226 - accuracy: 0.9140\n",
            "Epoch 00019: val_accuracy improved from 0.91289 to 0.91505, saving model to output/seq2seq_kor/weights.h5\n",
            "9/9 [==============================] - 2s 172ms/step - loss: 0.1226 - accuracy: 0.9140 - val_loss: 0.1262 - val_accuracy: 0.9151\n",
            "Epoch 20/80\n",
            "9/9 [==============================] - ETA: 0s - loss: 0.1142 - accuracy: 0.9163\n",
            "Epoch 00020: val_accuracy improved from 0.91505 to 0.91730, saving model to output/seq2seq_kor/weights.h5\n",
            "9/9 [==============================] - 2s 167ms/step - loss: 0.1142 - accuracy: 0.9163 - val_loss: 0.1157 - val_accuracy: 0.9173\n",
            "Epoch 21/80\n",
            "9/9 [==============================] - ETA: 0s - loss: 0.1090 - accuracy: 0.9183\n",
            "Epoch 00021: val_accuracy improved from 0.91730 to 0.91924, saving model to output/seq2seq_kor/weights.h5\n",
            "9/9 [==============================] - 1s 165ms/step - loss: 0.1090 - accuracy: 0.9183 - val_loss: 0.1179 - val_accuracy: 0.9192\n",
            "Epoch 22/80\n",
            "9/9 [==============================] - ETA: 0s - loss: 0.0989 - accuracy: 0.9203\n",
            "Epoch 00022: val_accuracy improved from 0.91924 to 0.92145, saving model to output/seq2seq_kor/weights.h5\n",
            "9/9 [==============================] - 2s 169ms/step - loss: 0.0989 - accuracy: 0.9203 - val_loss: 0.1062 - val_accuracy: 0.9215\n",
            "Epoch 23/80\n",
            "9/9 [==============================] - ETA: 0s - loss: 0.0830 - accuracy: 0.9224\n",
            "Epoch 00023: val_accuracy improved from 0.92145 to 0.92339, saving model to output/seq2seq_kor/weights.h5\n",
            "9/9 [==============================] - 2s 167ms/step - loss: 0.0830 - accuracy: 0.9224 - val_loss: 0.1054 - val_accuracy: 0.9234\n",
            "Epoch 24/80\n",
            "9/9 [==============================] - ETA: 0s - loss: 0.0896 - accuracy: 0.9245\n",
            "Epoch 00024: val_accuracy improved from 0.92339 to 0.92542, saving model to output/seq2seq_kor/weights.h5\n",
            "9/9 [==============================] - 2s 171ms/step - loss: 0.0896 - accuracy: 0.9245 - val_loss: 0.1164 - val_accuracy: 0.9254\n",
            "Epoch 25/80\n",
            "9/9 [==============================] - ETA: 0s - loss: 0.0724 - accuracy: 0.9265\n",
            "Epoch 00025: val_accuracy improved from 0.92542 to 0.92752, saving model to output/seq2seq_kor/weights.h5\n",
            "9/9 [==============================] - 1s 96ms/step - loss: 0.0724 - accuracy: 0.9265 - val_loss: 0.1278 - val_accuracy: 0.9275\n",
            "Epoch 26/80\n",
            "9/9 [==============================] - ETA: 0s - loss: 0.0602 - accuracy: 0.9287\n",
            "Epoch 00026: val_accuracy improved from 0.92752 to 0.92962, saving model to output/seq2seq_kor/weights.h5\n",
            "9/9 [==============================] - 2s 172ms/step - loss: 0.0602 - accuracy: 0.9287 - val_loss: 0.1514 - val_accuracy: 0.9296\n",
            "Epoch 27/80\n",
            "9/9 [==============================] - ETA: 0s - loss: 0.0312 - accuracy: 0.9309\n",
            "Epoch 00027: val_accuracy improved from 0.92962 to 0.93193, saving model to output/seq2seq_kor/weights.h5\n",
            "9/9 [==============================] - 2s 167ms/step - loss: 0.0312 - accuracy: 0.9309 - val_loss: 0.1787 - val_accuracy: 0.9319\n",
            "Epoch 28/80\n",
            "9/9 [==============================] - ETA: 0s - loss: 0.0259 - accuracy: 0.9330\n",
            "Epoch 00028: val_accuracy improved from 0.93193 to 0.93407, saving model to output/seq2seq_kor/weights.h5\n",
            "9/9 [==============================] - 2s 172ms/step - loss: 0.0259 - accuracy: 0.9330 - val_loss: 0.1955 - val_accuracy: 0.9341\n",
            "Epoch 29/80\n",
            "9/9 [==============================] - ETA: 0s - loss: 0.0202 - accuracy: 0.9351\n",
            "Epoch 00029: val_accuracy improved from 0.93407 to 0.93607, saving model to output/seq2seq_kor/weights.h5\n",
            "9/9 [==============================] - 2s 170ms/step - loss: 0.0202 - accuracy: 0.9351 - val_loss: 0.1958 - val_accuracy: 0.9361\n",
            "Epoch 30/80\n",
            "9/9 [==============================] - ETA: 0s - loss: 0.0147 - accuracy: 0.9371\n",
            "Epoch 00030: val_accuracy improved from 0.93607 to 0.93787, saving model to output/seq2seq_kor/weights.h5\n",
            "9/9 [==============================] - 2s 168ms/step - loss: 0.0147 - accuracy: 0.9371 - val_loss: 0.2272 - val_accuracy: 0.9379\n",
            "Epoch 31/80\n",
            "9/9 [==============================] - ETA: 0s - loss: 0.0043 - accuracy: 0.9389\n",
            "Epoch 00031: val_accuracy improved from 0.93787 to 0.93974, saving model to output/seq2seq_kor/weights.h5\n",
            "9/9 [==============================] - 1s 164ms/step - loss: 0.0043 - accuracy: 0.9389 - val_loss: 0.2249 - val_accuracy: 0.9397\n",
            "Epoch 32/80\n",
            "9/9 [==============================] - ETA: 0s - loss: 0.0033 - accuracy: 0.9407\n",
            "Epoch 00032: val_accuracy improved from 0.93974 to 0.94150, saving model to output/seq2seq_kor/weights.h5\n",
            "9/9 [==============================] - 1s 101ms/step - loss: 0.0033 - accuracy: 0.9407 - val_loss: 0.2157 - val_accuracy: 0.9415\n",
            "Epoch 33/80\n",
            "9/9 [==============================] - ETA: 0s - loss: 0.0017 - accuracy: 0.9424\n",
            "Epoch 00033: val_accuracy improved from 0.94150 to 0.94315, saving model to output/seq2seq_kor/weights.h5\n",
            "9/9 [==============================] - 2s 171ms/step - loss: 0.0017 - accuracy: 0.9424 - val_loss: 0.2101 - val_accuracy: 0.9432\n",
            "Epoch 34/80\n",
            "9/9 [==============================] - ETA: 0s - loss: 0.0011 - accuracy: 0.9440\n",
            "Epoch 00034: val_accuracy improved from 0.94315 to 0.94471, saving model to output/seq2seq_kor/weights.h5\n",
            "9/9 [==============================] - 1s 162ms/step - loss: 0.0011 - accuracy: 0.9440 - val_loss: 0.2087 - val_accuracy: 0.9447\n",
            "Epoch 35/80\n",
            "9/9 [==============================] - ETA: 0s - loss: 9.4254e-04 - accuracy: 0.9455\n",
            "Epoch 00035: val_accuracy improved from 0.94471 to 0.94617, saving model to output/seq2seq_kor/weights.h5\n",
            "9/9 [==============================] - 2s 174ms/step - loss: 9.4254e-04 - accuracy: 0.9455 - val_loss: 0.2090 - val_accuracy: 0.9462\n",
            "Epoch 36/80\n",
            "9/9 [==============================] - ETA: 0s - loss: 7.6508e-04 - accuracy: 0.9469\n",
            "Epoch 00036: val_accuracy improved from 0.94617 to 0.94756, saving model to output/seq2seq_kor/weights.h5\n",
            "9/9 [==============================] - 1s 96ms/step - loss: 7.6508e-04 - accuracy: 0.9469 - val_loss: 0.2104 - val_accuracy: 0.9476\n",
            "Epoch 37/80\n",
            "9/9 [==============================] - ETA: 0s - loss: 6.7423e-04 - accuracy: 0.9483\n",
            "Epoch 00037: val_accuracy improved from 0.94756 to 0.94886, saving model to output/seq2seq_kor/weights.h5\n",
            "9/9 [==============================] - 2s 169ms/step - loss: 6.7423e-04 - accuracy: 0.9483 - val_loss: 0.2122 - val_accuracy: 0.9489\n",
            "Epoch 38/80\n",
            "9/9 [==============================] - ETA: 0s - loss: 6.0405e-04 - accuracy: 0.9495\n",
            "Epoch 00038: val_accuracy improved from 0.94886 to 0.95011, saving model to output/seq2seq_kor/weights.h5\n",
            "9/9 [==============================] - 2s 173ms/step - loss: 6.0405e-04 - accuracy: 0.9495 - val_loss: 0.2144 - val_accuracy: 0.9501\n",
            "Epoch 39/80\n",
            "9/9 [==============================] - ETA: 0s - loss: 5.5333e-04 - accuracy: 0.9508\n",
            "Epoch 00039: val_accuracy improved from 0.95011 to 0.95128, saving model to output/seq2seq_kor/weights.h5\n",
            "9/9 [==============================] - 1s 97ms/step - loss: 5.5333e-04 - accuracy: 0.9508 - val_loss: 0.2160 - val_accuracy: 0.9513\n",
            "Epoch 40/80\n",
            "9/9 [==============================] - ETA: 0s - loss: 4.9978e-04 - accuracy: 0.9519\n",
            "Epoch 00040: val_accuracy improved from 0.95128 to 0.95240, saving model to output/seq2seq_kor/weights.h5\n",
            "9/9 [==============================] - 2s 170ms/step - loss: 4.9978e-04 - accuracy: 0.9519 - val_loss: 0.2180 - val_accuracy: 0.9524\n",
            "Epoch 41/80\n",
            "9/9 [==============================] - ETA: 0s - loss: 4.6617e-04 - accuracy: 0.9530\n",
            "Epoch 00041: val_accuracy improved from 0.95240 to 0.95346, saving model to output/seq2seq_kor/weights.h5\n",
            "9/9 [==============================] - 2s 169ms/step - loss: 4.6617e-04 - accuracy: 0.9530 - val_loss: 0.2193 - val_accuracy: 0.9535\n",
            "Epoch 42/80\n",
            "9/9 [==============================] - ETA: 0s - loss: 4.3283e-04 - accuracy: 0.9540\n",
            "Epoch 00042: val_accuracy improved from 0.95346 to 0.95448, saving model to output/seq2seq_kor/weights.h5\n",
            "9/9 [==============================] - 1s 158ms/step - loss: 4.3283e-04 - accuracy: 0.9540 - val_loss: 0.2208 - val_accuracy: 0.9545\n",
            "Epoch 43/80\n",
            "9/9 [==============================] - ETA: 0s - loss: 4.0376e-04 - accuracy: 0.9550\n",
            "Epoch 00043: val_accuracy improved from 0.95448 to 0.95544, saving model to output/seq2seq_kor/weights.h5\n",
            "9/9 [==============================] - 2s 169ms/step - loss: 4.0376e-04 - accuracy: 0.9550 - val_loss: 0.2222 - val_accuracy: 0.9554\n",
            "Epoch 44/80\n",
            "9/9 [==============================] - ETA: 0s - loss: 3.8105e-04 - accuracy: 0.9560\n",
            "Epoch 00044: val_accuracy improved from 0.95544 to 0.95636, saving model to output/seq2seq_kor/weights.h5\n",
            "9/9 [==============================] - 1s 161ms/step - loss: 3.8105e-04 - accuracy: 0.9560 - val_loss: 0.2234 - val_accuracy: 0.9564\n",
            "Epoch 45/80\n",
            "9/9 [==============================] - ETA: 0s - loss: 3.5747e-04 - accuracy: 0.9569\n",
            "Epoch 00045: val_accuracy improved from 0.95636 to 0.95724, saving model to output/seq2seq_kor/weights.h5\n",
            "9/9 [==============================] - 2s 173ms/step - loss: 3.5747e-04 - accuracy: 0.9569 - val_loss: 0.2250 - val_accuracy: 0.9572\n",
            "Epoch 46/80\n",
            "9/9 [==============================] - ETA: 0s - loss: 3.3753e-04 - accuracy: 0.9577\n",
            "Epoch 00046: val_accuracy improved from 0.95724 to 0.95809, saving model to output/seq2seq_kor/weights.h5\n",
            "9/9 [==============================] - 1s 97ms/step - loss: 3.3753e-04 - accuracy: 0.9577 - val_loss: 0.2259 - val_accuracy: 0.9581\n",
            "Epoch 47/80\n",
            "9/9 [==============================] - ETA: 0s - loss: 3.2094e-04 - accuracy: 0.9585\n",
            "Epoch 00047: val_accuracy improved from 0.95809 to 0.95889, saving model to output/seq2seq_kor/weights.h5\n",
            "9/9 [==============================] - 2s 173ms/step - loss: 3.2094e-04 - accuracy: 0.9585 - val_loss: 0.2269 - val_accuracy: 0.9589\n",
            "Epoch 48/80\n",
            "9/9 [==============================] - ETA: 0s - loss: 3.0660e-04 - accuracy: 0.9593\n",
            "Epoch 00048: val_accuracy improved from 0.95889 to 0.95967, saving model to output/seq2seq_kor/weights.h5\n",
            "9/9 [==============================] - 2s 167ms/step - loss: 3.0660e-04 - accuracy: 0.9593 - val_loss: 0.2283 - val_accuracy: 0.9597\n",
            "Epoch 49/80\n",
            "9/9 [==============================] - ETA: 0s - loss: 2.8993e-04 - accuracy: 0.9601\n",
            "Epoch 00049: val_accuracy improved from 0.95967 to 0.96041, saving model to output/seq2seq_kor/weights.h5\n",
            "9/9 [==============================] - 2s 170ms/step - loss: 2.8993e-04 - accuracy: 0.9601 - val_loss: 0.2295 - val_accuracy: 0.9604\n",
            "Epoch 50/80\n",
            "9/9 [==============================] - ETA: 0s - loss: 2.7659e-04 - accuracy: 0.9608\n",
            "Epoch 00050: val_accuracy improved from 0.96041 to 0.96112, saving model to output/seq2seq_kor/weights.h5\n",
            "9/9 [==============================] - 1s 101ms/step - loss: 2.7659e-04 - accuracy: 0.9608 - val_loss: 0.2304 - val_accuracy: 0.9611\n",
            "Epoch 51/80\n",
            "9/9 [==============================] - ETA: 0s - loss: 2.6469e-04 - accuracy: 0.9615\n",
            "Epoch 00051: val_accuracy improved from 0.96112 to 0.96180, saving model to output/seq2seq_kor/weights.h5\n",
            "9/9 [==============================] - 2s 168ms/step - loss: 2.6469e-04 - accuracy: 0.9615 - val_loss: 0.2312 - val_accuracy: 0.9618\n",
            "Epoch 52/80\n",
            "9/9 [==============================] - ETA: 0s - loss: 2.5350e-04 - accuracy: 0.9622\n",
            "Epoch 00052: val_accuracy improved from 0.96180 to 0.96246, saving model to output/seq2seq_kor/weights.h5\n",
            "9/9 [==============================] - 2s 173ms/step - loss: 2.5350e-04 - accuracy: 0.9622 - val_loss: 0.2322 - val_accuracy: 0.9625\n",
            "Epoch 53/80\n",
            "9/9 [==============================] - ETA: 0s - loss: 2.4306e-04 - accuracy: 0.9628\n",
            "Epoch 00053: val_accuracy improved from 0.96246 to 0.96309, saving model to output/seq2seq_kor/weights.h5\n",
            "9/9 [==============================] - 1s 106ms/step - loss: 2.4306e-04 - accuracy: 0.9628 - val_loss: 0.2328 - val_accuracy: 0.9631\n",
            "Epoch 54/80\n",
            "9/9 [==============================] - ETA: 0s - loss: 2.3247e-04 - accuracy: 0.9634\n",
            "Epoch 00054: val_accuracy improved from 0.96309 to 0.96370, saving model to output/seq2seq_kor/weights.h5\n",
            "9/9 [==============================] - 2s 172ms/step - loss: 2.3247e-04 - accuracy: 0.9634 - val_loss: 0.2338 - val_accuracy: 0.9637\n",
            "Epoch 55/80\n",
            "9/9 [==============================] - ETA: 0s - loss: 2.2425e-04 - accuracy: 0.9640\n",
            "Epoch 00055: val_accuracy improved from 0.96370 to 0.96429, saving model to output/seq2seq_kor/weights.h5\n",
            "9/9 [==============================] - 2s 168ms/step - loss: 2.2425e-04 - accuracy: 0.9640 - val_loss: 0.2348 - val_accuracy: 0.9643\n",
            "Epoch 56/80\n",
            "9/9 [==============================] - ETA: 0s - loss: 2.1549e-04 - accuracy: 0.9646\n",
            "Epoch 00056: val_accuracy improved from 0.96429 to 0.96486, saving model to output/seq2seq_kor/weights.h5\n",
            "9/9 [==============================] - 2s 173ms/step - loss: 2.1549e-04 - accuracy: 0.9646 - val_loss: 0.2357 - val_accuracy: 0.9649\n",
            "Epoch 57/80\n",
            "9/9 [==============================] - ETA: 0s - loss: 2.0724e-04 - accuracy: 0.9652\n",
            "Epoch 00057: val_accuracy improved from 0.96486 to 0.96540, saving model to output/seq2seq_kor/weights.h5\n",
            "9/9 [==============================] - 1s 93ms/step - loss: 2.0724e-04 - accuracy: 0.9652 - val_loss: 0.2366 - val_accuracy: 0.9654\n",
            "Epoch 58/80\n",
            "9/9 [==============================] - ETA: 0s - loss: 2.0041e-04 - accuracy: 0.9657\n",
            "Epoch 00058: val_accuracy improved from 0.96540 to 0.96593, saving model to output/seq2seq_kor/weights.h5\n",
            "9/9 [==============================] - 2s 168ms/step - loss: 2.0041e-04 - accuracy: 0.9657 - val_loss: 0.2373 - val_accuracy: 0.9659\n",
            "Epoch 59/80\n",
            "9/9 [==============================] - ETA: 0s - loss: 1.9341e-04 - accuracy: 0.9662\n",
            "Epoch 00059: val_accuracy improved from 0.96593 to 0.96644, saving model to output/seq2seq_kor/weights.h5\n",
            "9/9 [==============================] - 2s 173ms/step - loss: 1.9341e-04 - accuracy: 0.9662 - val_loss: 0.2381 - val_accuracy: 0.9664\n",
            "Epoch 60/80\n",
            "9/9 [==============================] - ETA: 0s - loss: 1.8646e-04 - accuracy: 0.9667\n",
            "Epoch 00060: val_accuracy improved from 0.96644 to 0.96693, saving model to output/seq2seq_kor/weights.h5\n",
            "9/9 [==============================] - 1s 100ms/step - loss: 1.8646e-04 - accuracy: 0.9667 - val_loss: 0.2386 - val_accuracy: 0.9669\n",
            "Epoch 61/80\n",
            "9/9 [==============================] - ETA: 0s - loss: 1.8031e-04 - accuracy: 0.9672\n",
            "Epoch 00061: val_accuracy improved from 0.96693 to 0.96741, saving model to output/seq2seq_kor/weights.h5\n",
            "9/9 [==============================] - 2s 173ms/step - loss: 1.8031e-04 - accuracy: 0.9672 - val_loss: 0.2395 - val_accuracy: 0.9674\n",
            "Epoch 62/80\n",
            "9/9 [==============================] - ETA: 0s - loss: 1.7446e-04 - accuracy: 0.9677\n",
            "Epoch 00062: val_accuracy improved from 0.96741 to 0.96787, saving model to output/seq2seq_kor/weights.h5\n",
            "9/9 [==============================] - 1s 160ms/step - loss: 1.7446e-04 - accuracy: 0.9677 - val_loss: 0.2400 - val_accuracy: 0.9679\n",
            "Epoch 63/80\n",
            "9/9 [==============================] - ETA: 0s - loss: 1.6915e-04 - accuracy: 0.9681\n",
            "Epoch 00063: val_accuracy improved from 0.96787 to 0.96832, saving model to output/seq2seq_kor/weights.h5\n",
            "9/9 [==============================] - 2s 172ms/step - loss: 1.6915e-04 - accuracy: 0.9681 - val_loss: 0.2408 - val_accuracy: 0.9683\n",
            "Epoch 64/80\n",
            "9/9 [==============================] - ETA: 0s - loss: 1.6434e-04 - accuracy: 0.9686\n",
            "Epoch 00064: val_accuracy improved from 0.96832 to 0.96875, saving model to output/seq2seq_kor/weights.h5\n",
            "9/9 [==============================] - 2s 172ms/step - loss: 1.6434e-04 - accuracy: 0.9686 - val_loss: 0.2415 - val_accuracy: 0.9688\n",
            "Epoch 65/80\n",
            "9/9 [==============================] - ETA: 0s - loss: 1.5881e-04 - accuracy: 0.9690\n",
            "Epoch 00065: val_accuracy improved from 0.96875 to 0.96917, saving model to output/seq2seq_kor/weights.h5\n",
            "9/9 [==============================] - 1s 166ms/step - loss: 1.5881e-04 - accuracy: 0.9690 - val_loss: 0.2421 - val_accuracy: 0.9692\n",
            "Epoch 66/80\n",
            "9/9 [==============================] - ETA: 0s - loss: 1.5437e-04 - accuracy: 0.9694\n",
            "Epoch 00066: val_accuracy improved from 0.96917 to 0.96958, saving model to output/seq2seq_kor/weights.h5\n",
            "9/9 [==============================] - 2s 175ms/step - loss: 1.5437e-04 - accuracy: 0.9694 - val_loss: 0.2428 - val_accuracy: 0.9696\n",
            "Epoch 67/80\n",
            "9/9 [==============================] - ETA: 0s - loss: 1.4973e-04 - accuracy: 0.9698\n",
            "Epoch 00067: val_accuracy improved from 0.96958 to 0.96997, saving model to output/seq2seq_kor/weights.h5\n",
            "9/9 [==============================] - 1s 96ms/step - loss: 1.4973e-04 - accuracy: 0.9698 - val_loss: 0.2434 - val_accuracy: 0.9700\n",
            "Epoch 68/80\n",
            "9/9 [==============================] - ETA: 0s - loss: 1.4524e-04 - accuracy: 0.9702\n",
            "Epoch 00068: val_accuracy improved from 0.96997 to 0.97035, saving model to output/seq2seq_kor/weights.h5\n",
            "9/9 [==============================] - 2s 171ms/step - loss: 1.4524e-04 - accuracy: 0.9702 - val_loss: 0.2441 - val_accuracy: 0.9704\n",
            "Epoch 69/80\n",
            "9/9 [==============================] - ETA: 0s - loss: 1.4136e-04 - accuracy: 0.9706\n",
            "Epoch 00069: val_accuracy improved from 0.97035 to 0.97072, saving model to output/seq2seq_kor/weights.h5\n",
            "9/9 [==============================] - 2s 169ms/step - loss: 1.4136e-04 - accuracy: 0.9706 - val_loss: 0.2450 - val_accuracy: 0.9707\n",
            "Epoch 70/80\n",
            "9/9 [==============================] - ETA: 0s - loss: 1.3730e-04 - accuracy: 0.9709\n",
            "Epoch 00070: val_accuracy improved from 0.97072 to 0.97109, saving model to output/seq2seq_kor/weights.h5\n",
            "9/9 [==============================] - 2s 170ms/step - loss: 1.3730e-04 - accuracy: 0.9709 - val_loss: 0.2455 - val_accuracy: 0.9711\n",
            "Epoch 71/80\n",
            "9/9 [==============================] - ETA: 0s - loss: 1.3379e-04 - accuracy: 0.9713\n",
            "Epoch 00071: val_accuracy improved from 0.97109 to 0.97144, saving model to output/seq2seq_kor/weights.h5\n",
            "9/9 [==============================] - 1s 162ms/step - loss: 1.3379e-04 - accuracy: 0.9713 - val_loss: 0.2461 - val_accuracy: 0.9714\n",
            "Epoch 72/80\n",
            "9/9 [==============================] - ETA: 0s - loss: 1.3040e-04 - accuracy: 0.9716\n",
            "Epoch 00072: val_accuracy improved from 0.97144 to 0.97178, saving model to output/seq2seq_kor/weights.h5\n",
            "9/9 [==============================] - 2s 167ms/step - loss: 1.3040e-04 - accuracy: 0.9716 - val_loss: 0.2466 - val_accuracy: 0.9718\n",
            "Epoch 73/80\n",
            "9/9 [==============================] - ETA: 0s - loss: 1.2692e-04 - accuracy: 0.9720\n",
            "Epoch 00073: val_accuracy improved from 0.97178 to 0.97211, saving model to output/seq2seq_kor/weights.h5\n",
            "9/9 [==============================] - 2s 173ms/step - loss: 1.2692e-04 - accuracy: 0.9720 - val_loss: 0.2473 - val_accuracy: 0.9721\n",
            "Epoch 74/80\n",
            "9/9 [==============================] - ETA: 0s - loss: 1.2360e-04 - accuracy: 0.9723\n",
            "Epoch 00074: val_accuracy improved from 0.97211 to 0.97243, saving model to output/seq2seq_kor/weights.h5\n",
            "9/9 [==============================] - 1s 98ms/step - loss: 1.2360e-04 - accuracy: 0.9723 - val_loss: 0.2480 - val_accuracy: 0.9724\n",
            "Epoch 75/80\n",
            "9/9 [==============================] - ETA: 0s - loss: 1.2065e-04 - accuracy: 0.9726\n",
            "Epoch 00075: val_accuracy improved from 0.97243 to 0.97275, saving model to output/seq2seq_kor/weights.h5\n",
            "9/9 [==============================] - 2s 170ms/step - loss: 1.2065e-04 - accuracy: 0.9726 - val_loss: 0.2482 - val_accuracy: 0.9727\n",
            "Epoch 76/80\n",
            "9/9 [==============================] - ETA: 0s - loss: 1.1766e-04 - accuracy: 0.9729\n",
            "Epoch 00076: val_accuracy improved from 0.97275 to 0.97305, saving model to output/seq2seq_kor/weights.h5\n",
            "9/9 [==============================] - 2s 170ms/step - loss: 1.1766e-04 - accuracy: 0.9729 - val_loss: 0.2490 - val_accuracy: 0.9731\n",
            "Epoch 77/80\n",
            "9/9 [==============================] - ETA: 0s - loss: 1.1468e-04 - accuracy: 0.9732\n",
            "Epoch 00077: val_accuracy improved from 0.97305 to 0.97335, saving model to output/seq2seq_kor/weights.h5\n",
            "9/9 [==============================] - 1s 165ms/step - loss: 1.1468e-04 - accuracy: 0.9732 - val_loss: 0.2494 - val_accuracy: 0.9734\n",
            "Epoch 78/80\n",
            "9/9 [==============================] - ETA: 0s - loss: 1.1224e-04 - accuracy: 0.9735\n",
            "Epoch 00078: val_accuracy improved from 0.97335 to 0.97364, saving model to output/seq2seq_kor/weights.h5\n",
            "9/9 [==============================] - 1s 97ms/step - loss: 1.1224e-04 - accuracy: 0.9735 - val_loss: 0.2499 - val_accuracy: 0.9736\n",
            "Epoch 79/80\n",
            "9/9 [==============================] - ETA: 0s - loss: 1.0937e-04 - accuracy: 0.9738\n",
            "Epoch 00079: val_accuracy improved from 0.97364 to 0.97392, saving model to output/seq2seq_kor/weights.h5\n",
            "9/9 [==============================] - 2s 173ms/step - loss: 1.0937e-04 - accuracy: 0.9738 - val_loss: 0.2506 - val_accuracy: 0.9739\n",
            "Epoch 80/80\n",
            "9/9 [==============================] - ETA: 0s - loss: 1.0676e-04 - accuracy: 0.9741\n",
            "Epoch 00080: val_accuracy improved from 0.97392 to 0.97420, saving model to output/seq2seq_kor/weights.h5\n",
            "9/9 [==============================] - 2s 169ms/step - loss: 1.0676e-04 - accuracy: 0.9741 - val_loss: 0.2510 - val_accuracy: 0.9742\n"
          ],
          "name": "stdout"
        }
      ]
    },
    {
      "cell_type": "code",
      "metadata": {
        "id": "pwf7eTdfePN7",
        "outputId": "2ab4d4f3-db46-4075-a508-776534d77ecd",
        "colab": {
          "base_uri": "https://localhost:8080/"
        }
      },
      "source": [
        "plot_graphs(history, 'accuracy')"
      ],
      "execution_count": null,
      "outputs": [
        {
          "output_type": "display_data",
          "data": {
            "image/png": "[encoded data removed]",
            "text/plain": [
              "<Figure size 432x288 with 1 Axes>"
            ]
          },
          "metadata": {
            "tags": [],
            "needs_background": "light"
          }
        }
      ]
    },
    {
      "cell_type": "code",
      "metadata": {
        "id": "INzteRGEePQs",
        "outputId": "602d1c98-af25-4b55-faee-e7be0ac3cb5e",
        "colab": {
          "base_uri": "https://localhost:8080/"
        }
      },
      "source": [
        "plot_graphs(history, 'loss')"
      ],
      "execution_count": null,
      "outputs": [
        {
          "output_type": "display_data",
          "data": {
            "image/png": "[encoded data removed]",
            "text/plain": [
              "<Figure size 432x288 with 1 Axes>"
            ]
          },
          "metadata": {
            "tags": [],
            "needs_background": "light"
          }
        }
      ]
    },
    {
      "cell_type": "code",
      "metadata": {
        "id": "gICGO5ydePU4"
      },
      "source": [
        "SAVE_FILE_NM = \"weights.h5\"\n",
        "model.load_weights(os.path.join(DATA_OUT_PATH, MODEL_NAME, SAVE_FILE_NM))"
      ],
      "execution_count": null,
      "outputs": []
    },
    {
      "cell_type": "code",
      "metadata": {
        "id": "xsix3s_-e-4_",
        "outputId": "6e725d6a-1a6a-40df-dd34-886965920680",
        "colab": {
          "base_uri": "https://localhost:8080/"
        }
      },
      "source": [
        "query = \"남자친구 승진 선물로 뭐가 좋을까?\"\n",
        "\n",
        "test_index_inputs, _ = enc_processing([query], char2idx)    \n",
        "predict_tokens = model.inference(test_index_inputs)\n",
        "print(predict_tokens)\n",
        "\n",
        "print(' '.join([idx2char[str(t)] for t in predict_tokens]))"
      ],
      "execution_count": null,
      "outputs": [
        {
          "output_type": "stream",
          "text": [
            "[24 18 60 67 69 99]\n",
            "평소에 필요했던 게 좋을 것 같아요\n"
          ],
          "name": "stdout"
        }
      ]
    },
    {
      "cell_type": "code",
      "metadata": {
        "id": "O74xvN8ye-20"
      },
      "source": [
        ""
      ],
      "execution_count": null,
      "outputs": []
    }
  ]
}
